{
 "cells": [
  {
   "cell_type": "markdown",
   "metadata": {},
   "source": [
    "# Data Cleaning \n",
    "- Addressing **missing values, outliers, and inconsistencies**.\n",
    "- This step ensures the data's quality before analysis. \n",
    "- Understand the **structure** and **quality** of the data through exploration and prepare it for further analysis. **Exploratory Data Analysis (EDA)** "
   ]
  },
  {
   "cell_type": "markdown",
   "metadata": {},
   "source": [
    "## 1.Forest Cover\n",
    "- Annual Tree Cover Loss\n",
    "- Treecover Loss\n",
    "- Tree cover Extent\n"
   ]
  },
  {
   "cell_type": "code",
   "execution_count": 111,
   "metadata": {},
   "outputs": [],
   "source": [
    "# importations\n",
    "import pandas as pd\n",
    "import matplotlib.pyplot as plt\n",
    "import numpy as np\n",
    "import seaborn as sns \n",
    "from sklearn.linear_model import LinearRegression\n",
    "from sklearn.model_selection import GridSearchCV\n",
    "from sklearn.preprocessing import StandardScaler\n",
    "from sklearn.pipeline import Pipeline\n",
    "\n",
    "def readCSV(file_path):\n",
    "    df = pd.read_csv(file_path)\n",
    "    return df\n",
    "\n",
    "def readXLS(file_path):\n",
    "    df = pd.read_excel(file_path)\n",
    "    return df\n",
    "\n",
    "def describeData(df): \n",
    "    print(\"--------------------\")\n",
    "    print(\" OVERVIEW OF DATA \")\n",
    "    print(\"--------------------\")\n",
    "    print(df.head())\n",
    "    print(\"--------------------\")\n",
    "    print(\" DATA TYPES \")\n",
    "    print(\"--------------------\")\n",
    "    print(df.dtypes)\n",
    "    print(\"--------------------\")\n",
    "    print(\" DATAFRAME SHAPE \")\n",
    "    print(\"--------------------\")\n",
    "    print(df.shape)\n",
    "\n",
    "def summaryOfData(df):\n",
    "    print(\"Statistical Summary of data\")\n",
    "    print(df.describe())\n",
    "\n",
    "#  Checking for Outliers and Null Values\n",
    "    \n",
    "def  checkNullValues(df):\n",
    "    print(\"Null Values Present in Data\")\n",
    "    print(df.isna().sum() * 100 / len(df))\n",
    "\n",
    "\n",
    "# checking for outliers based on box plot and Inter Quartile Range\n",
    "\n",
    "def checkOutliersIQR(df):\n",
    "    Q1 = np.percentile(df, 25, method='midpoint')\n",
    "    Q3 = np.percentile(df, 75, method='midpoint')\n",
    "    IQR = Q3 - Q1\n",
    "    print(f\"Inter Quartile Range: {IQR}\")\n",
    "\n",
    "    # Calculating Lower & Upper Bounds\n",
    "    lowerBound = Q1 - 1.5*IQR\n",
    "    upperBound = Q3 + 1.5*IQR \n",
    "\n",
    "    print(f\"Lower Bound: {lowerBound}\")\n",
    "    print(f\"Upper Bound: {upperBound}\")\n",
    "\n",
    "\n",
    "def checkOutliersBoxplot(df):\n",
    "    sns.boxplot(df)"
   ]
  },
  {
   "cell_type": "markdown",
   "metadata": {},
   "source": [
    "### Read Data (Forest Cover)\n",
    "\n",
    "**NOTE**: Forest Cover\n",
    "- **Tree cover** is defined as all vegetation taller than 5 meters in height as of 2000. The tree cover data set is a collaboration of the University of Maryland, Google, USGS, and NASA, and uses Landsat satellite images to map tree cover globally for the years 2000 and 2010 at 30-meter resolution. \n",
    "- Note that *“tree cover”* is the biophysical presence of trees and may take the form of natural forests or plantations existing over a range of canopy densities."
   ]
  },
  {
   "cell_type": "markdown",
   "metadata": {},
   "source": [
    "#### Focuses on the Annual Tree cover loss by dominant driver in Kenya"
   ]
  },
  {
   "cell_type": "code",
   "execution_count": null,
   "metadata": {},
   "outputs": [],
   "source": [
    "forest_cover_loss = readCSV(\"data/Forest Cover/Annual tree cover loss by dominant driver in Kenya/treecover_loss__ha.csv\") \n",
    "forest_cover_extent = readCSV(\"data/Forest Cover/Annual tree cover loss by dominant driver in Kenya/treecover_extent_2000__ha.csv\")"
   ]
  },
  {
   "cell_type": "markdown",
   "metadata": {},
   "source": [
    "### Overview of into the data\n",
    "\n",
    "- Overview of Data using df.head()\n",
    "- Checking Data types\n",
    "- Checking the dimension of the data"
   ]
  },
  {
   "cell_type": "code",
   "execution_count": null,
   "metadata": {},
   "outputs": [
    {
     "name": "stdout",
     "output_type": "stream",
     "text": [
      "Statistical Summary of data\n",
      "       umd_tree_cover_loss__year  umd_tree_cover_loss__ha  \\\n",
      "count                 132.000000               132.000000   \n",
      "mean                 2011.500000              2841.117428   \n",
      "std                     6.368458              6032.652721   \n",
      "min                  2001.000000                25.579869   \n",
      "25%                  2006.000000               126.041695   \n",
      "50%                  2011.500000               245.179269   \n",
      "75%                  2017.000000               492.886238   \n",
      "max                  2022.000000             24213.043111   \n",
      "\n",
      "       gfw_gross_emissions_co2e_all_gases__Mg  \n",
      "count                            1.320000e+02  \n",
      "mean                             1.395906e+06  \n",
      "std                              2.989859e+06  \n",
      "min                              6.880135e+03  \n",
      "25%                              5.074765e+04  \n",
      "50%                              1.005047e+05  \n",
      "75%                              2.871572e+05  \n",
      "max                              1.211022e+07  \n"
     ]
    }
   ],
   "source": [
    "summaryOfData(forest_cover_loss)"
   ]
  },
  {
   "cell_type": "code",
   "execution_count": null,
   "metadata": {},
   "outputs": [
    {
     "name": "stdout",
     "output_type": "stream",
     "text": [
      "--------------------\n",
      " OVERVIEW OF DATA \n",
      "--------------------\n",
      "   iso  umd_tree_cover_extent_2000__ha      area__ha\n",
      "0  KEN                    3.319483e+06  5.859834e+07\n",
      "--------------------\n",
      " DATA TYPES \n",
      "--------------------\n",
      "iso                                object\n",
      "umd_tree_cover_extent_2000__ha    float64\n",
      "area__ha                          float64\n",
      "dtype: object\n",
      "--------------------\n",
      " DATAFRAME SHAPE \n",
      "--------------------\n",
      "(1, 3)\n"
     ]
    }
   ],
   "source": [
    "describeData(forest_cover_extent)"
   ]
  },
  {
   "cell_type": "markdown",
   "metadata": {},
   "source": [
    "### Statistical Summary of the Forest Cover Data"
   ]
  },
  {
   "cell_type": "code",
   "execution_count": null,
   "metadata": {},
   "outputs": [
    {
     "name": "stdout",
     "output_type": "stream",
     "text": [
      "--------------------\n",
      " OVERVIEW OF DATA \n",
      "--------------------\n",
      "  tsc_tree_cover_loss_drivers__driver  umd_tree_cover_loss__year  \\\n",
      "0                             Unknown                       2012   \n",
      "1                            Forestry                       2021   \n",
      "2                Shifting agriculture                       2019   \n",
      "3                            Forestry                       2020   \n",
      "4                             Unknown                       2019   \n",
      "\n",
      "   umd_tree_cover_loss__ha  gfw_gross_emissions_co2e_all_gases__Mg  \n",
      "0               270.305210                            8.048608e+04  \n",
      "1               103.917887                            9.014521e+04  \n",
      "2             14614.369913                            6.670329e+06  \n",
      "3               490.616006                            2.383159e+05  \n",
      "4               114.893385                            4.442652e+04  \n",
      "--------------------\n",
      " DATA TYPES \n",
      "--------------------\n",
      "tsc_tree_cover_loss_drivers__driver        object\n",
      "umd_tree_cover_loss__year                   int64\n",
      "umd_tree_cover_loss__ha                   float64\n",
      "gfw_gross_emissions_co2e_all_gases__Mg    float64\n",
      "dtype: object\n",
      "--------------------\n",
      " DATAFRAME SHAPE \n",
      "--------------------\n",
      "(132, 4)\n"
     ]
    }
   ],
   "source": [
    "describeData(forest_cover_loss)"
   ]
  },
  {
   "cell_type": "code",
   "execution_count": null,
   "metadata": {},
   "outputs": [
    {
     "name": "stdout",
     "output_type": "stream",
     "text": [
      "Statistical Summary of data\n",
      "       umd_tree_cover_extent_2000__ha      area__ha\n",
      "count                    1.000000e+00  1.000000e+00\n",
      "mean                     3.319483e+06  5.859834e+07\n",
      "std                               NaN           NaN\n",
      "min                      3.319483e+06  5.859834e+07\n",
      "25%                      3.319483e+06  5.859834e+07\n",
      "50%                      3.319483e+06  5.859834e+07\n",
      "75%                      3.319483e+06  5.859834e+07\n",
      "max                      3.319483e+06  5.859834e+07\n"
     ]
    }
   ],
   "source": [
    "summaryOfData(forest_cover_extent)"
   ]
  },
  {
   "cell_type": "markdown",
   "metadata": {},
   "source": [
    "### Check For Null Values and Outliers"
   ]
  },
  {
   "cell_type": "code",
   "execution_count": null,
   "metadata": {},
   "outputs": [
    {
     "name": "stdout",
     "output_type": "stream",
     "text": [
      "Null Values Present in Data\n",
      "tsc_tree_cover_loss_drivers__driver       0.0\n",
      "umd_tree_cover_loss__year                 0.0\n",
      "umd_tree_cover_loss__ha                   0.0\n",
      "gfw_gross_emissions_co2e_all_gases__Mg    0.0\n",
      "dtype: float64\n"
     ]
    }
   ],
   "source": [
    "# checking missing values \n",
    "checkNullValues(forest_cover_loss) "
   ]
  },
  {
   "cell_type": "code",
   "execution_count": null,
   "metadata": {},
   "outputs": [
    {
     "name": "stdout",
     "output_type": "stream",
     "text": [
      "Null Values Present in Data\n",
      "iso                               0.0\n",
      "umd_tree_cover_extent_2000__ha    0.0\n",
      "area__ha                          0.0\n",
      "dtype: float64\n"
     ]
    }
   ],
   "source": [
    "# checking missing values \n",
    "checkNullValues(forest_cover_extent)  "
   ]
  },
  {
   "cell_type": "markdown",
   "metadata": {},
   "source": [
    "### Checking for Outliers using IQR (Inter Quartile Range) and Box Plots for visualization\n",
    "\n",
    "**Formulaes**\n",
    "IQR = Quartile3 – Quartile1\n",
    "upperBound = Q3 + 1.5*IQR\n",
    "lowerBound = Q1 – 1.5*IQR\n"
   ]
  },
  {
   "cell_type": "code",
   "execution_count": null,
   "metadata": {},
   "outputs": [
    {
     "name": "stdout",
     "output_type": "stream",
     "text": [
      "Inter Quartile Range: 370.0310606437092\n",
      "Lower Bound: -429.92118090567\n",
      "Upper Bound: 1050.2030616691668\n"
     ]
    }
   ],
   "source": [
    "# Checking for Outliers using IQR (Inter Quartile Range) \n",
    "checkOutliersIQR(forest_cover_loss['umd_tree_cover_loss__ha'])  "
   ]
  },
  {
   "cell_type": "code",
   "execution_count": null,
   "metadata": {},
   "outputs": [
    {
     "data": {
      "image/png": "[encoded data removed]",
      "text/plain": [
       "<Figure size 640x480 with 1 Axes>"
      ]
     },
     "metadata": {},
     "output_type": "display_data"
    }
   ],
   "source": [
    "# Checking for Outliers Using BoxPlot \n",
    "checkOutliersBoxplot(forest_cover_extent)"
   ]
  },
  {
   "cell_type": "code",
   "execution_count": null,
   "metadata": {},
   "outputs": [
    {
     "data": {
      "image/png": "[encoded data removed]",
      "text/plain": [
       "<Figure size 640x480 with 1 Axes>"
      ]
     },
     "metadata": {},
     "output_type": "display_data"
    }
   ],
   "source": [
    "# Checking for Outliers using Box Plots \n",
    "checkOutliersBoxplot(forest_cover_loss)"
   ]
  },
  {
   "cell_type": "markdown",
   "metadata": {},
   "source": [
    "**Note:** \n",
    "- Good News, The data lacks missing values\n",
    "- However, we find that there exists outliers based on the tree cover loss but based on context of the data there exists a chance of the outliers being true values as opposed to outlier values."
   ]
  },
  {
   "cell_type": "markdown",
   "metadata": {},
   "source": [
    "#### Focuses on the Locations of tree cover loss in Kenya\n",
    "- Kindly note we will merge the adm1_metadata.csv with the treecover_extent_2000_by_region_ha.csv due to the locations"
   ]
  },
  {
   "cell_type": "code",
   "execution_count": null,
   "metadata": {},
   "outputs": [],
   "source": [
    "# contains Kenya County based details\n",
    "adm1_metadata = readCSV(\"data/Forest Cover/Location of tree cover loss in Kenya/adm1_metadata.csv\")\n",
    "# contains Forest cover extent and loss per region\n",
    "forest_cover_extent_by_region = readCSV(\"data/Forest Cover/Location of tree cover loss in Kenya/treecover_extent_2000_by_region__ha.csv\")\n",
    "forest_cover_loss_by_region =readCSV(\"data/Forest Cover/Location of tree cover loss in Kenya/treecover_loss_by_region__ha.csv\")\n"
   ]
  },
  {
   "cell_type": "code",
   "execution_count": null,
   "metadata": {},
   "outputs": [],
   "source": [
    "# Merge DataFrames\n",
    "forest_cover_extent_by_region_merged = pd.merge(forest_cover_extent_by_region, adm1_metadata, left_on='adm1', right_on='adm1__id', how='inner')\n",
    "\n",
    "# Drop unnecessary columns\n",
    "unnecessary_columns = ['adm1', 'adm1__id', 'iso']\n",
    "forest_cover_extent_by_region_merged = forest_cover_extent_by_region_merged.drop(columns=unnecessary_columns)\n",
    "\n",
    "# Reset index without inplace\n",
    "forest_cover_extent_by_region_merged.reset_index(drop=True, inplace=True)"
   ]
  },
  {
   "cell_type": "code",
   "execution_count": null,
   "metadata": {},
   "outputs": [
    {
     "data": {
      "text/html": [
       "<div>\n",
       "<style scoped>\n",
       "    .dataframe tbody tr th:only-of-type {\n",
       "        vertical-align: middle;\n",
       "    }\n",
       "\n",
       "    .dataframe tbody tr th {\n",
       "        vertical-align: top;\n",
       "    }\n",
       "\n",
       "    .dataframe thead th {\n",
       "        text-align: right;\n",
       "    }\n",
       "</style>\n",
       "<table border=\"1\" class=\"dataframe\">\n",
       "  <thead>\n",
       "    <tr style=\"text-align: right;\">\n",
       "      <th></th>\n",
       "      <th>umd_tree_cover_extent_2000__ha</th>\n",
       "      <th>area__ha</th>\n",
       "      <th>name</th>\n",
       "    </tr>\n",
       "  </thead>\n",
       "  <tbody>\n",
       "    <tr>\n",
       "      <th>0</th>\n",
       "      <td>113989.000894</td>\n",
       "      <td>1.084248e+06</td>\n",
       "      <td>Baringo</td>\n",
       "    </tr>\n",
       "    <tr>\n",
       "      <th>1</th>\n",
       "      <td>120633.520455</td>\n",
       "      <td>2.378441e+05</td>\n",
       "      <td>Bomet</td>\n",
       "    </tr>\n",
       "    <tr>\n",
       "      <th>2</th>\n",
       "      <td>71112.041454</td>\n",
       "      <td>3.573152e+05</td>\n",
       "      <td>Bungoma</td>\n",
       "    </tr>\n",
       "    <tr>\n",
       "      <th>3</th>\n",
       "      <td>22038.531962</td>\n",
       "      <td>1.799546e+05</td>\n",
       "      <td>Busia</td>\n",
       "    </tr>\n",
       "    <tr>\n",
       "      <th>4</th>\n",
       "      <td>107098.334326</td>\n",
       "      <td>2.804070e+05</td>\n",
       "      <td>Elgeyo-Marakwet</td>\n",
       "    </tr>\n",
       "  </tbody>\n",
       "</table>\n",
       "</div>"
      ],
      "text/plain": [
       "   umd_tree_cover_extent_2000__ha      area__ha             name\n",
       "0                   113989.000894  1.084248e+06          Baringo\n",
       "1                   120633.520455  2.378441e+05            Bomet\n",
       "2                    71112.041454  3.573152e+05          Bungoma\n",
       "3                    22038.531962  1.799546e+05            Busia\n",
       "4                   107098.334326  2.804070e+05  Elgeyo-Marakwet"
      ]
     },
     "execution_count": 75,
     "metadata": {},
     "output_type": "execute_result"
    }
   ],
   "source": [
    "# Viewing the Data\n",
    "forest_cover_extent_by_region_merged.head()"
   ]
  },
  {
   "cell_type": "markdown",
   "metadata": {},
   "source": [
    "#### Focuses on the Primary Forest Loss in Kenya\n",
    "- Focuses wholly on the tree cover loss per year "
   ]
  },
  {
   "cell_type": "code",
   "execution_count": null,
   "metadata": {},
   "outputs": [],
   "source": [
    "primary_forests_2001_tropics_only = readCSV(\"data/Forest Cover/Primary Forest loss in Kenya/treecover_extent_2000_in_primary_forests_2001_tropics_only__ha.csv\")\n",
    "primary_forest_cover_loss_2001_tropics_only = readCSV(\"data/Forest Cover/Primary Forest loss in Kenya/treecover_extent_2000_in_primary_forests_2001_tropics_only__ha.csv\")\n",
    "primary_forest_cover_loss_ha = readCSV(\"data/Forest Cover/Primary Forest loss in Kenya/treecover_loss__ha.csv\")"
   ]
  },
  {
   "cell_type": "code",
   "execution_count": null,
   "metadata": {},
   "outputs": [
    {
     "name": "stdout",
     "output_type": "stream",
     "text": [
      "Statistical Summary of data\n",
      "       umd_tree_cover_extent_2000__ha       area__ha\n",
      "count                        1.000000       1.000000\n",
      "mean                    649579.402794  650650.989627\n",
      "std                               NaN            NaN\n",
      "min                     649579.402794  650650.989627\n",
      "25%                     649579.402794  650650.989627\n",
      "50%                     649579.402794  650650.989627\n",
      "75%                     649579.402794  650650.989627\n",
      "max                     649579.402794  650650.989627\n"
     ]
    }
   ],
   "source": [
    "summaryOfData(primary_forests_2001_tropics_only)"
   ]
  },
  {
   "cell_type": "code",
   "execution_count": null,
   "metadata": {},
   "outputs": [
    {
     "name": "stdout",
     "output_type": "stream",
     "text": [
      "Statistical Summary of data\n",
      "       umd_tree_cover_extent_2000__ha       area__ha\n",
      "count                        1.000000       1.000000\n",
      "mean                    649579.402794  650650.989627\n",
      "std                               NaN            NaN\n",
      "min                     649579.402794  650650.989627\n",
      "25%                     649579.402794  650650.989627\n",
      "50%                     649579.402794  650650.989627\n",
      "75%                     649579.402794  650650.989627\n",
      "max                     649579.402794  650650.989627\n"
     ]
    }
   ],
   "source": [
    "summaryOfData(primary_forest_cover_loss_2001_tropics_only)"
   ]
  },
  {
   "cell_type": "code",
   "execution_count": null,
   "metadata": {},
   "outputs": [
    {
     "name": "stdout",
     "output_type": "stream",
     "text": [
      "Statistical Summary of data\n",
      "       umd_tree_cover_loss__year  umd_tree_cover_loss__ha  \\\n",
      "count                  22.000000                22.000000   \n",
      "mean                 2011.500000             17046.704571   \n",
      "std                     6.493587              4524.888037   \n",
      "min                  2001.000000              6639.031072   \n",
      "25%                  2006.250000             15421.504702   \n",
      "50%                  2011.500000             17497.941677   \n",
      "75%                  2016.750000             19180.233260   \n",
      "max                  2022.000000             26102.960081   \n",
      "\n",
      "       gfw_gross_emissions_co2e_all_gases__Mg  \n",
      "count                            2.200000e+01  \n",
      "mean                             8.375434e+06  \n",
      "std                              2.381587e+06  \n",
      "min                              3.695346e+06  \n",
      "25%                              7.306174e+06  \n",
      "50%                              8.438305e+06  \n",
      "75%                              9.715285e+06  \n",
      "max                              1.296864e+07  \n"
     ]
    }
   ],
   "source": [
    "summaryOfData(primary_forest_cover_loss_ha)"
   ]
  },
  {
   "cell_type": "markdown",
   "metadata": {},
   "source": [
    "## 2. GHG Emissions\n",
    "- County Groupings\n",
    "- Annual Emissions (1830-2021)\n",
    "- Emissions Cumulative CO2e (1851-2021)\n",
    "- GMST_respoonse \n",
    "\n",
    "### About Data\n",
    "**EMISSIONS_ANNUAL_1830-2021.csv**: Data includes **annual emissions of CO2** (Pg CO2 year-1), CH4 (Tg CH4 year-1) and N2O (Tg N2O year-1) during 1830-2021. The Data column provides values for every combination of the categorical variables. \n",
    "\n",
    "**EMISSIONS_CUMULATIVE_CO2e100_1851-2021.csv**: Data includes the **cumulative CO2 equivalent emissions** in units Pg CO2-e100 during 1851-2021. The Data column provides values for every combination of the categorical variables. \n",
    "\n",
    "**GMST_response_1851-2021.csv**: Data includes the change in **global mean surface temperature** (GMST) due to emissions of the three gases during 1851-2021 in units °C. The Data column provides values for every combination of the categorical variables. \n"
   ]
  },
  {
   "cell_type": "code",
   "execution_count": null,
   "metadata": {},
   "outputs": [],
   "source": [
    "# country_groupings = readXLS(\"data/GHG Emissions/COUNTRY_GROUPINGS.xlsx\") # No need to read this as it contains the country codes\n",
    "annual_emissions = readCSV(\"data/GHG Emissions/EMISSIONS_ANNUAL_1830-2021.csv\")\n",
    "cumulative_emissions = readCSV(\"data/GHG Emissions/EMISSIONS_CUMULATIVE_CO2e100_1851-2021.csv\")\n",
    "global_mean_surface_temperature_reponse = readCSV(\"data/GHG Emissions/GMST_response_1851-2021.csv\")"
   ]
  },
  {
   "cell_type": "markdown",
   "metadata": {},
   "source": [
    "### Overview of into the data\n",
    "- Overview of Data using df.head()\n",
    "- Checking Data types\n",
    "- Checking the dimension of the data"
   ]
  },
  {
   "cell_type": "markdown",
   "metadata": {},
   "source": [
    "#### Annual Emissions Summary & Describe"
   ]
  },
  {
   "cell_type": "code",
   "execution_count": null,
   "metadata": {},
   "outputs": [
    {
     "name": "stdout",
     "output_type": "stream",
     "text": [
      "Statistical Summary of data\n",
      "                Year           Data\n",
      "count  369048.000000  368280.000000\n",
      "mean     1926.478734       0.733928\n",
      "std        54.967060       6.863213\n",
      "min      1830.000000      -0.401257\n",
      "25%      1879.000000       0.000124\n",
      "50%      1927.000000       0.003339\n",
      "75%      1974.000000       0.043417\n",
      "max      2021.000000     364.929660\n"
     ]
    }
   ],
   "source": [
    "summaryOfData(annual_emissions)"
   ]
  },
  {
   "cell_type": "code",
   "execution_count": null,
   "metadata": {},
   "outputs": [
    {
     "name": "stdout",
     "output_type": "stream",
     "text": [
      "--------------------\n",
      " OVERVIEW OF DATA \n",
      "--------------------\n",
      "     CNTR_NAME ISO3    Gas Component  Year      Data              Unit\n",
      "0  Afghanistan  AFG  CH[4]    Fossil  1830  0.018746  Tg~CH[4]~year^-1\n",
      "1  Afghanistan  AFG  CH[4]    Fossil  1831  0.018850  Tg~CH[4]~year^-1\n",
      "2  Afghanistan  AFG  CH[4]    Fossil  1832  0.018953  Tg~CH[4]~year^-1\n",
      "3  Afghanistan  AFG  CH[4]    Fossil  1833  0.019057  Tg~CH[4]~year^-1\n",
      "4  Afghanistan  AFG  CH[4]    Fossil  1834  0.019161  Tg~CH[4]~year^-1\n",
      "--------------------\n",
      " DATA TYPES \n",
      "--------------------\n",
      "CNTR_NAME     object\n",
      "ISO3          object\n",
      "Gas           object\n",
      "Component     object\n",
      "Year           int64\n",
      "Data         float64\n",
      "Unit          object\n",
      "dtype: object\n",
      "--------------------\n",
      " DATAFRAME SHAPE \n",
      "--------------------\n",
      "(369048, 7)\n"
     ]
    }
   ],
   "source": [
    "describeData(annual_emissions)"
   ]
  },
  {
   "cell_type": "markdown",
   "metadata": {},
   "source": [
    "#### Cumulative Emissions Summary & Describe"
   ]
  },
  {
   "cell_type": "code",
   "execution_count": null,
   "metadata": {},
   "outputs": [
    {
     "name": "stdout",
     "output_type": "stream",
     "text": [
      "Statistical Summary of data\n",
      "                Year           Data\n",
      "count  450585.000000  450585.000000\n",
      "mean     1936.000000       7.251899\n",
      "std        49.362659      62.541571\n",
      "min      1851.000000      -2.800884\n",
      "25%      1893.000000       0.001642\n",
      "50%      1936.000000       0.040730\n",
      "75%      1979.000000       0.529036\n",
      "max      2021.000000    3576.508126\n"
     ]
    }
   ],
   "source": [
    "summaryOfData(cumulative_emissions)"
   ]
  },
  {
   "cell_type": "code",
   "execution_count": null,
   "metadata": {},
   "outputs": [
    {
     "name": "stdout",
     "output_type": "stream",
     "text": [
      "--------------------\n",
      " OVERVIEW OF DATA \n",
      "--------------------\n",
      "     CNTR_NAME ISO3    Gas Component  Year      Data              Unit\n",
      "0  Afghanistan  AFG  3-GHG    Fossil  1851  0.000455  Pg~CO[2]*-e[100]\n",
      "1  Afghanistan  AFG  3-GHG    Fossil  1852  0.000913  Pg~CO[2]*-e[100]\n",
      "2  Afghanistan  AFG  3-GHG    Fossil  1853  0.001375  Pg~CO[2]*-e[100]\n",
      "3  Afghanistan  AFG  3-GHG    Fossil  1854  0.001841  Pg~CO[2]*-e[100]\n",
      "4  Afghanistan  AFG  3-GHG    Fossil  1855  0.002311  Pg~CO[2]*-e[100]\n",
      "--------------------\n",
      " DATA TYPES \n",
      "--------------------\n",
      "CNTR_NAME     object\n",
      "ISO3          object\n",
      "Gas           object\n",
      "Component     object\n",
      "Year           int64\n",
      "Data         float64\n",
      "Unit          object\n",
      "dtype: object\n",
      "--------------------\n",
      " DATAFRAME SHAPE \n",
      "--------------------\n",
      "(450585, 7)\n"
     ]
    }
   ],
   "source": [
    "describeData(cumulative_emissions)"
   ]
  },
  {
   "cell_type": "markdown",
   "metadata": {},
   "source": [
    "#### Global Mean Surface Temperature Response Summary & Describe"
   ]
  },
  {
   "cell_type": "code",
   "execution_count": null,
   "metadata": {},
   "outputs": [
    {
     "name": "stdout",
     "output_type": "stream",
     "text": [
      "Statistical Summary of data\n",
      "                Year          Data\n",
      "count  450585.000000  4.505850e+05\n",
      "mean     1936.000000  3.265729e-03\n",
      "std        49.362659  2.816419e-02\n",
      "min      1851.000000 -1.261315e-03\n",
      "25%      1893.000000  7.393887e-07\n",
      "50%      1936.000000  1.834198e-05\n",
      "75%      1979.000000  2.382394e-04\n",
      "max      2021.000000  1.610600e+00\n"
     ]
    }
   ],
   "source": [
    "summaryOfData(global_mean_surface_temperature_reponse)"
   ]
  },
  {
   "cell_type": "code",
   "execution_count": null,
   "metadata": {},
   "outputs": [
    {
     "name": "stdout",
     "output_type": "stream",
     "text": [
      "--------------------\n",
      " OVERVIEW OF DATA \n",
      "--------------------\n",
      "     CNTR_NAME ISO3    Gas Component  Year          Data Unit\n",
      "0  Afghanistan  AFG  3-GHG    Fossil  1851  2.047658e-07   °C\n",
      "1  Afghanistan  AFG  3-GHG    Fossil  1852  4.112079e-07   °C\n",
      "2  Afghanistan  AFG  3-GHG    Fossil  1853  6.193339e-07   °C\n",
      "3  Afghanistan  AFG  3-GHG    Fossil  1854  8.291519e-07   °C\n",
      "4  Afghanistan  AFG  3-GHG    Fossil  1855  1.040669e-06   °C\n",
      "--------------------\n",
      " DATA TYPES \n",
      "--------------------\n",
      "CNTR_NAME     object\n",
      "ISO3          object\n",
      "Gas           object\n",
      "Component     object\n",
      "Year           int64\n",
      "Data         float64\n",
      "Unit          object\n",
      "dtype: object\n",
      "--------------------\n",
      " DATAFRAME SHAPE \n",
      "--------------------\n",
      "(450585, 7)\n"
     ]
    }
   ],
   "source": [
    "describeData(global_mean_surface_temperature_reponse)"
   ]
  },
  {
   "cell_type": "markdown",
   "metadata": {},
   "source": [
    "### Check forr Null and Outliers\n",
    "- Check Summary of the data in terms of null values\n",
    "- Checking for Outliers using IQR (Inter Quartile Range) and Box Plots for visualization\n",
    "    - **Formulaes**\n",
    "    - IQR = Quartile3 – Quartile1\n",
    "    - upperBound = Q3 + 1.5*IQR\n",
    "    - lowerBound = Q1 – 1.5*IQR"
   ]
  },
  {
   "cell_type": "code",
   "execution_count": null,
   "metadata": {},
   "outputs": [
    {
     "name": "stdout",
     "output_type": "stream",
     "text": [
      "Null Values Present in Data\n",
      "CNTR_NAME    0.000000\n",
      "ISO3         0.000000\n",
      "Gas          0.000000\n",
      "Component    0.000000\n",
      "Year         0.000000\n",
      "Data         0.208103\n",
      "Unit         0.000000\n",
      "dtype: float64\n"
     ]
    }
   ],
   "source": [
    "# checking missing values \n",
    "checkNullValues(annual_emissions)  "
   ]
  },
  {
   "cell_type": "code",
   "execution_count": null,
   "metadata": {},
   "outputs": [
    {
     "name": "stdout",
     "output_type": "stream",
     "text": [
      "Null Values Present in Data\n",
      "CNTR_NAME    0.0\n",
      "ISO3         0.0\n",
      "Gas          0.0\n",
      "Component    0.0\n",
      "Year         0.0\n",
      "Data         0.0\n",
      "Unit         0.0\n",
      "dtype: float64\n"
     ]
    }
   ],
   "source": [
    "# checking missing values  \n",
    "checkNullValues(cumulative_emissions)  "
   ]
  },
  {
   "cell_type": "code",
   "execution_count": null,
   "metadata": {},
   "outputs": [
    {
     "name": "stdout",
     "output_type": "stream",
     "text": [
      "Null Values Present in Data\n",
      "CNTR_NAME    0.0\n",
      "ISO3         0.0\n",
      "Gas          0.0\n",
      "Component    0.0\n",
      "Year         0.0\n",
      "Data         0.0\n",
      "Unit         0.0\n",
      "dtype: float64\n"
     ]
    }
   ],
   "source": [
    "# checking missing values  \n",
    "checkNullValues(global_mean_surface_temperature_reponse)  "
   ]
  },
  {
   "cell_type": "code",
   "execution_count": null,
   "metadata": {},
   "outputs": [
    {
     "data": {
      "image/png": "[encoded data removed]",
      "text/plain": [
       "<Figure size 640x480 with 1 Axes>"
      ]
     },
     "metadata": {},
     "output_type": "display_data"
    }
   ],
   "source": [
    "# Checking for Outliers using Box Plots \n",
    "checkOutliersBoxplot(annual_emissions)"
   ]
  },
  {
   "cell_type": "code",
   "execution_count": null,
   "metadata": {},
   "outputs": [
    {
     "data": {
      "image/png": "[encoded data removed]",
      "text/plain": [
       "<Figure size 640x480 with 1 Axes>"
      ]
     },
     "metadata": {},
     "output_type": "display_data"
    }
   ],
   "source": [
    "# Checking for Outliers using Box Plots \n",
    "checkOutliersBoxplot(cumulative_emissions)"
   ]
  },
  {
   "cell_type": "code",
   "execution_count": null,
   "metadata": {},
   "outputs": [
    {
     "data": {
      "image/png": "[encoded data removed]",
      "text/plain": [
       "<Figure size 640x480 with 1 Axes>"
      ]
     },
     "metadata": {},
     "output_type": "display_data"
    }
   ],
   "source": [
    "# Checking for Outliers using Box Plots \n",
    "checkOutliersBoxplot(global_mean_surface_temperature_reponse)"
   ]
  },
  {
   "cell_type": "markdown",
   "metadata": {},
   "source": [
    "# Visualizations\n",
    "\n",
    "- Forest Cover Loss in Kenya\n",
    "- GHG Emissions in Kenya\n"
   ]
  },
  {
   "cell_type": "markdown",
   "metadata": {},
   "source": [
    "# Modeling "
   ]
  },
  {
   "cell_type": "code",
   "execution_count": 112,
   "metadata": {},
   "outputs": [],
   "source": [
    "# Define linear regression model\n",
    "model = LinearRegression()\n",
    "\n",
    "# Defining hyperparameters to optimize\n",
    "param_grid = {\n",
    "    'alpha': [0.1, 0.01, 0.001],  # Regularization parameter\n",
    "    'normalize': [True, False],    # Whether to normalize the features\n",
    "    'fit_intercept': [True, False] # Whether to fit an intercept\n",
    "}"
   ]
  },
  {
   "cell_type": "markdown",
   "metadata": {},
   "source": []
  },
  {
   "cell_type": "code",
   "execution_count": null,
   "metadata": {},
   "outputs": [],
   "source": []
  },
  {
   "cell_type": "markdown",
   "metadata": {},
   "source": [
    "# Extraction"
   ]
  }
 ],
 "metadata": {
  "kernelspec": {
   "display_name": "Python 3",
   "language": "python",
   "name": "python3"
  },
  "language_info": {
   "codemirror_mode": {
    "name": "ipython",
    "version": 3
   },
   "file_extension": ".py",
   "mimetype": "text/x-python",
   "name": "python",
   "nbconvert_exporter": "python",
   "pygments_lexer": "ipython3",
   "version": "3.12.1"
  }
 },
 "nbformat": 4,
 "nbformat_minor": 2
}
