{
 "cells": [
  {
   "cell_type": "markdown",
   "metadata": {},
   "source": [
    "# Data Cleaning \n",
    "- Addressing **missing values, outliers, and inconsistencies**.\n",
    "- This step ensures the data's quality before analysis. \n",
    "- Understand the **structure** and **quality** of the data through exploration and prepare it for further analysis. **Exploratory Data Analysis (EDA)** "
   ]
  },
  {
   "cell_type": "markdown",
   "metadata": {},
   "source": [
    "## 1.Forest Cover\n",
    "- Annual Tree Cover Loss\n",
    "- Treecover Loss\n",
    "- Tree cover Extent\n"
   ]
  },
  {
   "cell_type": "code",
   "execution_count": 74,
   "metadata": {},
   "outputs": [],
   "source": [
    "# importations\n",
    "import description as dp"
   ]
  },
  {
   "cell_type": "markdown",
   "metadata": {},
   "source": [
    "### Read Data (Forest Cover)\n",
    "\n",
    "**NOTE**: Forest Cover\n",
    "- **Tree cover** is defined as all vegetation taller than 5 meters in height as of 2000. The tree cover data set is a collaboration of the University of Maryland, Google, USGS, and NASA, and uses Landsat satellite images to map tree cover globally for the years 2000 and 2010 at 30-meter resolution. \n",
    "- Note that *“tree cover”* is the biophysical presence of trees and may take the form of natural forests or plantations existing over a range of canopy densities."
   ]
  },
  {
   "cell_type": "markdown",
   "metadata": {},
   "source": [
    "#### Focuses on the Annual Tree cover loss by dominant driver in Kenya"
   ]
  },
  {
   "cell_type": "code",
   "execution_count": 70,
   "metadata": {},
   "outputs": [],
   "source": [
    "forest_cover_loss = dp.readCSV(\"data/Forest Cover/Annual tree cover loss by dominant driver in Kenya/treecover_loss__ha.csv\") \n",
    "forest_cover_extent = dp.readCSV(\"data/Forest Cover/Annual tree cover loss by dominant driver in Kenya/treecover_extent_2000__ha.csv\")"
   ]
  },
  {
   "cell_type": "markdown",
   "metadata": {},
   "source": [
    "### Overview of into the data\n",
    "\n",
    "- Overview of Data using df.head()\n",
    "- Checking Data types\n",
    "- Checking the dimension of the data"
   ]
  },
  {
   "cell_type": "code",
   "execution_count": 75,
   "metadata": {},
   "outputs": [
    {
     "name": "stdout",
     "output_type": "stream",
     "text": [
      "OverView Of Data\n",
      "  tsc_tree_cover_loss_drivers__driver  umd_tree_cover_loss__year  \\\n",
      "0                             Unknown                       2012   \n",
      "1                            Forestry                       2021   \n",
      "2                Shifting agriculture                       2019   \n",
      "3                            Forestry                       2020   \n",
      "4                             Unknown                       2019   \n",
      "\n",
      "   umd_tree_cover_loss__ha  gfw_gross_emissions_co2e_all_gases__Mg  \n",
      "0               270.305210                            8.048608e+04  \n",
      "1               103.917887                            9.014521e+04  \n",
      "2             14614.369913                            6.670329e+06  \n",
      "3               490.616006                            2.383159e+05  \n",
      "4               114.893385                            4.442652e+04  \n",
      "Data Types\n",
      "tsc_tree_cover_loss_drivers__driver        object\n",
      "umd_tree_cover_loss__year                   int64\n",
      "umd_tree_cover_loss__ha                   float64\n",
      "gfw_gross_emissions_co2e_all_gases__Mg    float64\n",
      "dtype: object\n",
      "DataFrame Shape\n",
      "(132, 4)\n"
     ]
    }
   ],
   "source": [
    "dp.decribeData(forest_cover_loss)"
   ]
  },
  {
   "cell_type": "code",
   "execution_count": 68,
   "metadata": {},
   "outputs": [
    {
     "data": {
      "text/html": [
       "<div>\n",
       "<style scoped>\n",
       "    .dataframe tbody tr th:only-of-type {\n",
       "        vertical-align: middle;\n",
       "    }\n",
       "\n",
       "    .dataframe tbody tr th {\n",
       "        vertical-align: top;\n",
       "    }\n",
       "\n",
       "    .dataframe thead th {\n",
       "        text-align: right;\n",
       "    }\n",
       "</style>\n",
       "<table border=\"1\" class=\"dataframe\">\n",
       "  <thead>\n",
       "    <tr style=\"text-align: right;\">\n",
       "      <th></th>\n",
       "      <th>tsc_tree_cover_loss_drivers__driver</th>\n",
       "      <th>umd_tree_cover_loss__year</th>\n",
       "      <th>umd_tree_cover_loss__ha</th>\n",
       "      <th>gfw_gross_emissions_co2e_all_gases__Mg</th>\n",
       "    </tr>\n",
       "  </thead>\n",
       "  <tbody>\n",
       "    <tr>\n",
       "      <th>0</th>\n",
       "      <td>Unknown</td>\n",
       "      <td>2012</td>\n",
       "      <td>270.305210</td>\n",
       "      <td>8.048608e+04</td>\n",
       "    </tr>\n",
       "    <tr>\n",
       "      <th>1</th>\n",
       "      <td>Forestry</td>\n",
       "      <td>2021</td>\n",
       "      <td>103.917887</td>\n",
       "      <td>9.014521e+04</td>\n",
       "    </tr>\n",
       "    <tr>\n",
       "      <th>2</th>\n",
       "      <td>Shifting agriculture</td>\n",
       "      <td>2019</td>\n",
       "      <td>14614.369913</td>\n",
       "      <td>6.670329e+06</td>\n",
       "    </tr>\n",
       "    <tr>\n",
       "      <th>3</th>\n",
       "      <td>Forestry</td>\n",
       "      <td>2020</td>\n",
       "      <td>490.616006</td>\n",
       "      <td>2.383159e+05</td>\n",
       "    </tr>\n",
       "    <tr>\n",
       "      <th>4</th>\n",
       "      <td>Unknown</td>\n",
       "      <td>2019</td>\n",
       "      <td>114.893385</td>\n",
       "      <td>4.442652e+04</td>\n",
       "    </tr>\n",
       "  </tbody>\n",
       "</table>\n",
       "</div>"
      ],
      "text/plain": [
       "  tsc_tree_cover_loss_drivers__driver  umd_tree_cover_loss__year  \\\n",
       "0                             Unknown                       2012   \n",
       "1                            Forestry                       2021   \n",
       "2                Shifting agriculture                       2019   \n",
       "3                            Forestry                       2020   \n",
       "4                             Unknown                       2019   \n",
       "\n",
       "   umd_tree_cover_loss__ha  gfw_gross_emissions_co2e_all_gases__Mg  \n",
       "0               270.305210                            8.048608e+04  \n",
       "1               103.917887                            9.014521e+04  \n",
       "2             14614.369913                            6.670329e+06  \n",
       "3               490.616006                            2.383159e+05  \n",
       "4               114.893385                            4.442652e+04  "
      ]
     },
     "execution_count": 68,
     "metadata": {},
     "output_type": "execute_result"
    }
   ],
   "source": [
    "forest_cover_loss.head()"
   ]
  },
  {
   "cell_type": "code",
   "execution_count": 9,
   "metadata": {},
   "outputs": [
    {
     "data": {
      "text/plain": [
       "<bound method NDFrame.head of    iso  umd_tree_cover_extent_2000__ha      area__ha\n",
       "0  KEN                    3.319483e+06  5.859834e+07>"
      ]
     },
     "execution_count": 9,
     "metadata": {},
     "output_type": "execute_result"
    }
   ],
   "source": [
    "forest_cover_extent.head()"
   ]
  },
  {
   "cell_type": "markdown",
   "metadata": {},
   "source": [
    "### Checking for the data types"
   ]
  },
  {
   "cell_type": "code",
   "execution_count": 65,
   "metadata": {},
   "outputs": [
    {
     "name": "stdout",
     "output_type": "stream",
     "text": [
      "iso                                object\n",
      "umd_tree_cover_extent_2000__ha    float64\n",
      "area__ha                          float64\n",
      "dtype: object\n"
     ]
    }
   ],
   "source": [
    "forest_cover_extent.dtypes"
   ]
  },
  {
   "cell_type": "code",
   "execution_count": 11,
   "metadata": {},
   "outputs": [
    {
     "data": {
      "text/plain": [
       "tsc_tree_cover_loss_drivers__driver        object\n",
       "umd_tree_cover_loss__year                   int64\n",
       "umd_tree_cover_loss__ha                   float64\n",
       "gfw_gross_emissions_co2e_all_gases__Mg    float64\n",
       "dtype: object"
      ]
     },
     "execution_count": 11,
     "metadata": {},
     "output_type": "execute_result"
    }
   ],
   "source": [
    "forest_cover_loss.dtypes"
   ]
  },
  {
   "cell_type": "markdown",
   "metadata": {},
   "source": [
    "### Understanding the Shape of the Forest Cover Data"
   ]
  },
  {
   "cell_type": "code",
   "execution_count": 12,
   "metadata": {},
   "outputs": [
    {
     "data": {
      "text/plain": [
       "(132, 4)"
      ]
     },
     "execution_count": 12,
     "metadata": {},
     "output_type": "execute_result"
    }
   ],
   "source": [
    "forest_cover_loss.shape"
   ]
  },
  {
   "cell_type": "code",
   "execution_count": 13,
   "metadata": {},
   "outputs": [
    {
     "data": {
      "text/plain": [
       "(1, 3)"
      ]
     },
     "execution_count": 13,
     "metadata": {},
     "output_type": "execute_result"
    }
   ],
   "source": [
    "forest_cover_extent.shape"
   ]
  },
  {
   "cell_type": "markdown",
   "metadata": {},
   "source": [
    "### Statistical Summary of the Forest Cover Data"
   ]
  },
  {
   "cell_type": "code",
   "execution_count": 15,
   "metadata": {},
   "outputs": [
    {
     "data": {
      "text/html": [
       "<div>\n",
       "<style scoped>\n",
       "    .dataframe tbody tr th:only-of-type {\n",
       "        vertical-align: middle;\n",
       "    }\n",
       "\n",
       "    .dataframe tbody tr th {\n",
       "        vertical-align: top;\n",
       "    }\n",
       "\n",
       "    .dataframe thead th {\n",
       "        text-align: right;\n",
       "    }\n",
       "</style>\n",
       "<table border=\"1\" class=\"dataframe\">\n",
       "  <thead>\n",
       "    <tr style=\"text-align: right;\">\n",
       "      <th></th>\n",
       "      <th>umd_tree_cover_loss__year</th>\n",
       "      <th>umd_tree_cover_loss__ha</th>\n",
       "      <th>gfw_gross_emissions_co2e_all_gases__Mg</th>\n",
       "    </tr>\n",
       "  </thead>\n",
       "  <tbody>\n",
       "    <tr>\n",
       "      <th>count</th>\n",
       "      <td>132.000000</td>\n",
       "      <td>132.000000</td>\n",
       "      <td>1.320000e+02</td>\n",
       "    </tr>\n",
       "    <tr>\n",
       "      <th>mean</th>\n",
       "      <td>2011.500000</td>\n",
       "      <td>2841.117428</td>\n",
       "      <td>1.395906e+06</td>\n",
       "    </tr>\n",
       "    <tr>\n",
       "      <th>std</th>\n",
       "      <td>6.368458</td>\n",
       "      <td>6032.652721</td>\n",
       "      <td>2.989859e+06</td>\n",
       "    </tr>\n",
       "    <tr>\n",
       "      <th>min</th>\n",
       "      <td>2001.000000</td>\n",
       "      <td>25.579869</td>\n",
       "      <td>6.880135e+03</td>\n",
       "    </tr>\n",
       "    <tr>\n",
       "      <th>25%</th>\n",
       "      <td>2006.000000</td>\n",
       "      <td>126.041695</td>\n",
       "      <td>5.074765e+04</td>\n",
       "    </tr>\n",
       "    <tr>\n",
       "      <th>50%</th>\n",
       "      <td>2011.500000</td>\n",
       "      <td>245.179269</td>\n",
       "      <td>1.005047e+05</td>\n",
       "    </tr>\n",
       "    <tr>\n",
       "      <th>75%</th>\n",
       "      <td>2017.000000</td>\n",
       "      <td>492.886238</td>\n",
       "      <td>2.871572e+05</td>\n",
       "    </tr>\n",
       "    <tr>\n",
       "      <th>max</th>\n",
       "      <td>2022.000000</td>\n",
       "      <td>24213.043111</td>\n",
       "      <td>1.211022e+07</td>\n",
       "    </tr>\n",
       "  </tbody>\n",
       "</table>\n",
       "</div>"
      ],
      "text/plain": [
       "       umd_tree_cover_loss__year  umd_tree_cover_loss__ha  \\\n",
       "count                 132.000000               132.000000   \n",
       "mean                 2011.500000              2841.117428   \n",
       "std                     6.368458              6032.652721   \n",
       "min                  2001.000000                25.579869   \n",
       "25%                  2006.000000               126.041695   \n",
       "50%                  2011.500000               245.179269   \n",
       "75%                  2017.000000               492.886238   \n",
       "max                  2022.000000             24213.043111   \n",
       "\n",
       "       gfw_gross_emissions_co2e_all_gases__Mg  \n",
       "count                            1.320000e+02  \n",
       "mean                             1.395906e+06  \n",
       "std                              2.989859e+06  \n",
       "min                              6.880135e+03  \n",
       "25%                              5.074765e+04  \n",
       "50%                              1.005047e+05  \n",
       "75%                              2.871572e+05  \n",
       "max                              1.211022e+07  "
      ]
     },
     "execution_count": 15,
     "metadata": {},
     "output_type": "execute_result"
    }
   ],
   "source": [
    "forest_cover_loss.describe()"
   ]
  },
  {
   "cell_type": "code",
   "execution_count": 16,
   "metadata": {},
   "outputs": [
    {
     "data": {
      "text/html": [
       "<div>\n",
       "<style scoped>\n",
       "    .dataframe tbody tr th:only-of-type {\n",
       "        vertical-align: middle;\n",
       "    }\n",
       "\n",
       "    .dataframe tbody tr th {\n",
       "        vertical-align: top;\n",
       "    }\n",
       "\n",
       "    .dataframe thead th {\n",
       "        text-align: right;\n",
       "    }\n",
       "</style>\n",
       "<table border=\"1\" class=\"dataframe\">\n",
       "  <thead>\n",
       "    <tr style=\"text-align: right;\">\n",
       "      <th></th>\n",
       "      <th>umd_tree_cover_extent_2000__ha</th>\n",
       "      <th>area__ha</th>\n",
       "    </tr>\n",
       "  </thead>\n",
       "  <tbody>\n",
       "    <tr>\n",
       "      <th>count</th>\n",
       "      <td>1.000000e+00</td>\n",
       "      <td>1.000000e+00</td>\n",
       "    </tr>\n",
       "    <tr>\n",
       "      <th>mean</th>\n",
       "      <td>3.319483e+06</td>\n",
       "      <td>5.859834e+07</td>\n",
       "    </tr>\n",
       "    <tr>\n",
       "      <th>std</th>\n",
       "      <td>NaN</td>\n",
       "      <td>NaN</td>\n",
       "    </tr>\n",
       "    <tr>\n",
       "      <th>min</th>\n",
       "      <td>3.319483e+06</td>\n",
       "      <td>5.859834e+07</td>\n",
       "    </tr>\n",
       "    <tr>\n",
       "      <th>25%</th>\n",
       "      <td>3.319483e+06</td>\n",
       "      <td>5.859834e+07</td>\n",
       "    </tr>\n",
       "    <tr>\n",
       "      <th>50%</th>\n",
       "      <td>3.319483e+06</td>\n",
       "      <td>5.859834e+07</td>\n",
       "    </tr>\n",
       "    <tr>\n",
       "      <th>75%</th>\n",
       "      <td>3.319483e+06</td>\n",
       "      <td>5.859834e+07</td>\n",
       "    </tr>\n",
       "    <tr>\n",
       "      <th>max</th>\n",
       "      <td>3.319483e+06</td>\n",
       "      <td>5.859834e+07</td>\n",
       "    </tr>\n",
       "  </tbody>\n",
       "</table>\n",
       "</div>"
      ],
      "text/plain": [
       "       umd_tree_cover_extent_2000__ha      area__ha\n",
       "count                    1.000000e+00  1.000000e+00\n",
       "mean                     3.319483e+06  5.859834e+07\n",
       "std                               NaN           NaN\n",
       "min                      3.319483e+06  5.859834e+07\n",
       "25%                      3.319483e+06  5.859834e+07\n",
       "50%                      3.319483e+06  5.859834e+07\n",
       "75%                      3.319483e+06  5.859834e+07\n",
       "max                      3.319483e+06  5.859834e+07"
      ]
     },
     "execution_count": 16,
     "metadata": {},
     "output_type": "execute_result"
    }
   ],
   "source": [
    "forest_cover_extent.describe()"
   ]
  },
  {
   "cell_type": "markdown",
   "metadata": {},
   "source": [
    "### Check For Null Values and Outliers"
   ]
  },
  {
   "cell_type": "code",
   "execution_count": 59,
   "metadata": {},
   "outputs": [
    {
     "data": {
      "text/plain": [
       "iso                               0.0\n",
       "umd_tree_cover_extent_2000__ha    0.0\n",
       "area__ha                          0.0\n",
       "dtype: float64"
      ]
     },
     "execution_count": 59,
     "metadata": {},
     "output_type": "execute_result"
    }
   ],
   "source": [
    "# checking missing values \n",
    "forest_cover_extent.isna().sum() * 100 / len(forest_cover_extent)"
   ]
  },
  {
   "cell_type": "code",
   "execution_count": 61,
   "metadata": {},
   "outputs": [
    {
     "data": {
      "text/plain": [
       "tsc_tree_cover_loss_drivers__driver       0.0\n",
       "umd_tree_cover_loss__year                 0.0\n",
       "umd_tree_cover_loss__ha                   0.0\n",
       "gfw_gross_emissions_co2e_all_gases__Mg    0.0\n",
       "dtype: float64"
      ]
     },
     "execution_count": 61,
     "metadata": {},
     "output_type": "execute_result"
    }
   ],
   "source": [
    "# checking missing values \n",
    "forest_cover_loss.isna().sum() * 100 / len(forest_cover_extent)"
   ]
  },
  {
   "cell_type": "markdown",
   "metadata": {},
   "source": [
    "### Checking for Outliers using IQR (Inter Quartile Range) and Box Plots for visualization\n",
    "\n",
    "**Formulaes**\n",
    "IQR = Quartile3 – Quartile1\n",
    "upperBound = Q3 + 1.5*IQR\n",
    "lowerBound = Q1 – 1.5*IQR\n"
   ]
  },
  {
   "cell_type": "code",
   "execution_count": 62,
   "metadata": {},
   "outputs": [
    {
     "name": "stdout",
     "output_type": "stream",
     "text": [
      "Inter Quartile Range: 370.0310606437092\n",
      "Lower Bound: -429.92118090567\n",
      "Upper Bound: 1050.2030616691668\n"
     ]
    }
   ],
   "source": [
    "# Checking for Outliers using IQR (Inter Quartile Range)  \n",
    "Q1 = np.percentile(forest_cover_loss['umd_tree_cover_loss__ha'], 25, method='midpoint')\n",
    "Q3 = np.percentile(forest_cover_loss['umd_tree_cover_loss__ha'], 75, method='midpoint')\n",
    "IQR = Q3 - Q1\n",
    "print(f\"Inter Quartile Range: {IQR}\")\n",
    "\n",
    "# Calculating Lower & Upper Bounds\n",
    "lowerBound = Q1 - 1.5*IQR\n",
    "upperBound = Q3 + 1.5*IQR \n",
    "\n",
    "print(f\"Lower Bound: {lowerBound}\")\n",
    "print(f\"Upper Bound: {upperBound}\")\n"
   ]
  },
  {
   "cell_type": "code",
   "execution_count": 22,
   "metadata": {},
   "outputs": [
    {
     "data": {
      "text/plain": [
       "<Axes: >"
      ]
     },
     "execution_count": 22,
     "metadata": {},
     "output_type": "execute_result"
    },
    {
     "data": {
      "image/png": "[encoded data removed]",
      "text/plain": [
       "<Figure size 640x480 with 1 Axes>"
      ]
     },
     "metadata": {},
     "output_type": "display_data"
    }
   ],
   "source": [
    "# Checking for Outliers Using BoxPlot \n",
    "sns.boxplot(forest_cover_extent)"
   ]
  },
  {
   "cell_type": "code",
   "execution_count": 23,
   "metadata": {},
   "outputs": [
    {
     "data": {
      "text/plain": [
       "<Axes: >"
      ]
     },
     "execution_count": 23,
     "metadata": {},
     "output_type": "execute_result"
    },
    {
     "data": {
      "image/png": "[encoded data removed]",
      "text/plain": [
       "<Figure size 640x480 with 1 Axes>"
      ]
     },
     "metadata": {},
     "output_type": "display_data"
    }
   ],
   "source": [
    "# Checking for Outliers using Box Plots \n",
    "sns.boxplot(forest_cover_loss)"
   ]
  },
  {
   "cell_type": "markdown",
   "metadata": {},
   "source": [
    "**Note:** \n",
    "- Good News, The data lacks missing values\n",
    "- However, we find that there exists outliers based on the tree cover loss but based on context of the data there exists a chance of the outliers being true values as opposed to outlier values."
   ]
  },
  {
   "cell_type": "markdown",
   "metadata": {},
   "source": [
    "#### Focuses on the Locations of tree cover loss in Kenya\n",
    "- Kindly note we will merge the adm1_metadata.csv with the treecover_extent_2000_by_region_ha.csv due to the locations"
   ]
  },
  {
   "cell_type": "code",
   "execution_count": 43,
   "metadata": {},
   "outputs": [],
   "source": [
    "# contains Kenya County based details\n",
    "adm1_metadata = pd.read_csv(\"data/Forest Cover/Location of tree cover loss in Kenya/adm1_metadata.csv\")\n",
    "# contains Forest cover extent and loss per region\n",
    "forest_cover_extent_by_region = pd.read_csv(\"data/Forest Cover/Location of tree cover loss in Kenya/treecover_extent_2000_by_region__ha.csv\")\n",
    "forest_cover_loss_by_region = pd.read_csv(\"data/Forest Cover/Location of tree cover loss in Kenya/treecover_loss_by_region__ha.csv\")\n"
   ]
  },
  {
   "cell_type": "code",
   "execution_count": 55,
   "metadata": {},
   "outputs": [],
   "source": [
    "# Merge DataFrames\n",
    "forest_cover_extent_by_region_merged = pd.merge(forest_cover_extent_by_region, adm1_metadata, left_on='adm1', right_on='adm1__id', how='inner')\n",
    "\n",
    "# Drop unnecessary columns\n",
    "unnecessary_columns = ['adm1', 'adm1__id', 'iso']\n",
    "forest_cover_extent_by_region_merged = forest_cover_extent_by_region_merged.drop(columns=unnecessary_columns)\n",
    "\n",
    "# Reset index without inplace\n",
    "forest_cover_extent_by_region_merged.reset_index(drop=True, inplace=True)"
   ]
  },
  {
   "cell_type": "code",
   "execution_count": 63,
   "metadata": {},
   "outputs": [
    {
     "data": {
      "text/html": [
       "<div>\n",
       "<style scoped>\n",
       "    .dataframe tbody tr th:only-of-type {\n",
       "        vertical-align: middle;\n",
       "    }\n",
       "\n",
       "    .dataframe tbody tr th {\n",
       "        vertical-align: top;\n",
       "    }\n",
       "\n",
       "    .dataframe thead th {\n",
       "        text-align: right;\n",
       "    }\n",
       "</style>\n",
       "<table border=\"1\" class=\"dataframe\">\n",
       "  <thead>\n",
       "    <tr style=\"text-align: right;\">\n",
       "      <th></th>\n",
       "      <th>umd_tree_cover_extent_2000__ha</th>\n",
       "      <th>area__ha</th>\n",
       "      <th>name</th>\n",
       "    </tr>\n",
       "  </thead>\n",
       "  <tbody>\n",
       "    <tr>\n",
       "      <th>0</th>\n",
       "      <td>113989.000894</td>\n",
       "      <td>1.084248e+06</td>\n",
       "      <td>Baringo</td>\n",
       "    </tr>\n",
       "    <tr>\n",
       "      <th>1</th>\n",
       "      <td>120633.520455</td>\n",
       "      <td>2.378441e+05</td>\n",
       "      <td>Bomet</td>\n",
       "    </tr>\n",
       "    <tr>\n",
       "      <th>2</th>\n",
       "      <td>71112.041454</td>\n",
       "      <td>3.573152e+05</td>\n",
       "      <td>Bungoma</td>\n",
       "    </tr>\n",
       "    <tr>\n",
       "      <th>3</th>\n",
       "      <td>22038.531962</td>\n",
       "      <td>1.799546e+05</td>\n",
       "      <td>Busia</td>\n",
       "    </tr>\n",
       "    <tr>\n",
       "      <th>4</th>\n",
       "      <td>107098.334326</td>\n",
       "      <td>2.804070e+05</td>\n",
       "      <td>Elgeyo-Marakwet</td>\n",
       "    </tr>\n",
       "  </tbody>\n",
       "</table>\n",
       "</div>"
      ],
      "text/plain": [
       "   umd_tree_cover_extent_2000__ha      area__ha             name\n",
       "0                   113989.000894  1.084248e+06          Baringo\n",
       "1                   120633.520455  2.378441e+05            Bomet\n",
       "2                    71112.041454  3.573152e+05          Bungoma\n",
       "3                    22038.531962  1.799546e+05            Busia\n",
       "4                   107098.334326  2.804070e+05  Elgeyo-Marakwet"
      ]
     },
     "execution_count": 63,
     "metadata": {},
     "output_type": "execute_result"
    }
   ],
   "source": [
    "# Viewing the Data\n",
    "forest_cover_extent_by_region_merged.head()"
   ]
  },
  {
   "cell_type": "markdown",
   "metadata": {},
   "source": [
    "# Extraction"
   ]
  }
 ],
 "metadata": {
  "kernelspec": {
   "display_name": "Python 3",
   "language": "python",
   "name": "python3"
  },
  "language_info": {
   "codemirror_mode": {
    "name": "ipython",
    "version": 3
   },
   "file_extension": ".py",
   "mimetype": "text/x-python",
   "name": "python",
   "nbconvert_exporter": "python",
   "pygments_lexer": "ipython3",
   "version": "3.12.1"
  }
 },
 "nbformat": 4,
 "nbformat_minor": 2
}
