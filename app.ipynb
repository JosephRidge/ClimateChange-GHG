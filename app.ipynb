{
 "cells": [
  {
   "cell_type": "markdown",
   "metadata": {},
   "source": [
    "# Data Cleaning \n",
    "- Addressing **missing values, outliers, and inconsistencies**.\n",
    "- This step ensures the data's quality before analysis. \n",
    "- Understand the **structure** and **quality** of the data through exploration and prepare it for further analysis. **Exploratory Data Analysis (EDA)** "
   ]
  },
  {
   "cell_type": "markdown",
   "metadata": {},
   "source": [
    "## 1.Forest Cover\n",
    "- Annual Tree Cover Loss\n",
    "- Treecover Loss\n",
    "- Tree cover Extent\n"
   ]
  },
  {
   "cell_type": "code",
   "execution_count": 165,
   "metadata": {},
   "outputs": [],
   "source": [
    "# importations\n",
    "import pandas as pd\n",
    "import matplotlib.pyplot as plt\n",
    "import numpy as np\n",
    "import seaborn as sns   \n",
    "from sklearn.tree import DecisionTreeClassifier\n",
    "from sklearn.model_selection import train_test_split\n",
    "from sklearn.metrics import accuracy_score, classification_report\n",
    "from sklearn.ensemble import RandomForestClassifier  \n",
    "from sklearn.linear_model import LogisticRegression\n",
    "from statsmodels.tsa.stattools import adfuller\n",
    "from statsmodels.tsa.arima.model import  ARIMA\n",
    "from statsmodels.graphics.tsaplots import plot_acf, plot_pacf, plot_predict\n",
    "import warnings\n",
    "warnings.filterwarnings('ignore')\n"
   ]
  },
  {
   "cell_type": "code",
   "execution_count": 166,
   "metadata": {},
   "outputs": [],
   "source": [
    "# common functions\n",
    "\n",
    "def readCSV(file_path):\n",
    "    df = pd.read_csv(file_path)\n",
    "    return df\n",
    "\n",
    "def readXLS(file_path):\n",
    "    df = pd.read_excel(file_path)\n",
    "    return df\n",
    "\n",
    "def describeData(df): \n",
    "    print(\"--------------------\")\n",
    "    print(\" OVERVIEW OF DATA \")\n",
    "    print(\"--------------------\")\n",
    "    print(df.head())\n",
    "    print(\"--------------------\")\n",
    "    print(\" DATA TYPES \")\n",
    "    print(\"--------------------\")\n",
    "    print(df.dtypes)\n",
    "    print(\"--------------------\")\n",
    "    print(\" DATAFRAME SHAPE \")\n",
    "    print(\"--------------------\")\n",
    "    print(df.shape)\n",
    "\n",
    "def summaryOfData(df):\n",
    "    print(\"Statistical Summary of data\")\n",
    "    print(df.describe())\n",
    "\n",
    "#  Checking for Outliers and Null Values\n",
    "    \n",
    "def  checkNullValues(df):\n",
    "    print(\"Null Values Present in Data\")\n",
    "    print(df.isna().sum() * 100 / len(df))\n",
    "\n",
    "\n",
    "# checking for outliers based on box plot and Inter Quartile Range\n",
    "\n",
    "def checkOutliersIQR(df):\n",
    "    Q1 = np.percentile(df, 25, method='midpoint')\n",
    "    Q3 = np.percentile(df, 75, method='midpoint')\n",
    "    IQR = Q3 - Q1\n",
    "    print(f\"Inter Quartile Range: {IQR}\")\n",
    "\n",
    "    # Calculating Lower & Upper Bounds\n",
    "    lowerBound = Q1 - 1.5*IQR\n",
    "    upperBound = Q3 + 1.5*IQR \n",
    "\n",
    "    print(f\"Lower Bound: {lowerBound}\")\n",
    "    print(f\"Upper Bound: {upperBound}\")\n",
    "\n",
    "\n",
    "def checkOutliersBoxplot(df):\n",
    "    sns.boxplot(df)"
   ]
  },
  {
   "cell_type": "markdown",
   "metadata": {},
   "source": [
    "### Read Data (Forest Cover)\n",
    "\n",
    "**NOTE**: Forest Cover\n",
    "- **Tree cover** is defined as all vegetation taller than 5 meters in height as of 2000. The tree cover data set is a collaboration of the University of Maryland, Google, USGS, and NASA, and uses Landsat satellite images to map tree cover globally for the years 2000 and 2010 at 30-meter resolution. \n",
    "- Note that *“tree cover”* is the biophysical presence of trees and may take the form of natural forests or plantations existing over a range of canopy densities."
   ]
  },
  {
   "cell_type": "markdown",
   "metadata": {},
   "source": [
    "#### Focuses on the Annual Tree cover loss by dominant driver in Kenya"
   ]
  },
  {
   "cell_type": "code",
   "execution_count": 167,
   "metadata": {},
   "outputs": [],
   "source": [
    "forest_cover_loss = readCSV(\"data/Forest Cover/Annual tree cover loss by dominant driver in Kenya/treecover_loss__ha.csv\") \n",
    "forest_cover_extent = readCSV(\"data/Forest Cover/Annual tree cover loss by dominant driver in Kenya/treecover_extent_2000__ha.csv\")"
   ]
  },
  {
   "cell_type": "markdown",
   "metadata": {},
   "source": [
    "### Overview of into the data\n",
    "\n",
    "- Overview of Data using df.head()\n",
    "- Checking Data types\n",
    "- Checking the dimension of the data"
   ]
  },
  {
   "cell_type": "code",
   "execution_count": 168,
   "metadata": {},
   "outputs": [
    {
     "name": "stdout",
     "output_type": "stream",
     "text": [
      "Statistical Summary of data\n",
      "       umd_tree_cover_loss__year  umd_tree_cover_loss__ha  \\\n",
      "count                 132.000000               132.000000   \n",
      "mean                 2011.500000              2841.117428   \n",
      "std                     6.368458              6032.652721   \n",
      "min                  2001.000000                25.579869   \n",
      "25%                  2006.000000               126.041695   \n",
      "50%                  2011.500000               245.179269   \n",
      "75%                  2017.000000               492.886238   \n",
      "max                  2022.000000             24213.043111   \n",
      "\n",
      "       gfw_gross_emissions_co2e_all_gases__Mg  \n",
      "count                            1.320000e+02  \n",
      "mean                             1.395906e+06  \n",
      "std                              2.989859e+06  \n",
      "min                              6.880135e+03  \n",
      "25%                              5.074765e+04  \n",
      "50%                              1.005047e+05  \n",
      "75%                              2.871572e+05  \n",
      "max                              1.211022e+07  \n"
     ]
    }
   ],
   "source": [
    "summaryOfData(forest_cover_loss)"
   ]
  },
  {
   "cell_type": "code",
   "execution_count": 169,
   "metadata": {},
   "outputs": [
    {
     "name": "stdout",
     "output_type": "stream",
     "text": [
      "--------------------\n",
      " OVERVIEW OF DATA \n",
      "--------------------\n",
      "   iso  umd_tree_cover_extent_2000__ha      area__ha\n",
      "0  KEN                    3.319483e+06  5.859834e+07\n",
      "--------------------\n",
      " DATA TYPES \n",
      "--------------------\n",
      "iso                                object\n",
      "umd_tree_cover_extent_2000__ha    float64\n",
      "area__ha                          float64\n",
      "dtype: object\n",
      "--------------------\n",
      " DATAFRAME SHAPE \n",
      "--------------------\n",
      "(1, 3)\n"
     ]
    }
   ],
   "source": [
    "describeData(forest_cover_extent)"
   ]
  },
  {
   "cell_type": "markdown",
   "metadata": {},
   "source": [
    "### Statistical Summary of the Forest Cover Data"
   ]
  },
  {
   "cell_type": "code",
   "execution_count": 170,
   "metadata": {},
   "outputs": [
    {
     "name": "stdout",
     "output_type": "stream",
     "text": [
      "--------------------\n",
      " OVERVIEW OF DATA \n",
      "--------------------\n",
      "  tsc_tree_cover_loss_drivers__driver  umd_tree_cover_loss__year  \\\n",
      "0                             Unknown                       2012   \n",
      "1                            Forestry                       2021   \n",
      "2                Shifting agriculture                       2019   \n",
      "3                            Forestry                       2020   \n",
      "4                             Unknown                       2019   \n",
      "\n",
      "   umd_tree_cover_loss__ha  gfw_gross_emissions_co2e_all_gases__Mg  \n",
      "0               270.305210                            8.048608e+04  \n",
      "1               103.917887                            9.014521e+04  \n",
      "2             14614.369913                            6.670329e+06  \n",
      "3               490.616006                            2.383159e+05  \n",
      "4               114.893385                            4.442652e+04  \n",
      "--------------------\n",
      " DATA TYPES \n",
      "--------------------\n",
      "tsc_tree_cover_loss_drivers__driver        object\n",
      "umd_tree_cover_loss__year                   int64\n",
      "umd_tree_cover_loss__ha                   float64\n",
      "gfw_gross_emissions_co2e_all_gases__Mg    float64\n",
      "dtype: object\n",
      "--------------------\n",
      " DATAFRAME SHAPE \n",
      "--------------------\n",
      "(132, 4)\n"
     ]
    }
   ],
   "source": [
    "describeData(forest_cover_loss)"
   ]
  },
  {
   "cell_type": "code",
   "execution_count": 171,
   "metadata": {},
   "outputs": [
    {
     "name": "stdout",
     "output_type": "stream",
     "text": [
      "Statistical Summary of data\n",
      "       umd_tree_cover_extent_2000__ha      area__ha\n",
      "count                    1.000000e+00  1.000000e+00\n",
      "mean                     3.319483e+06  5.859834e+07\n",
      "std                               NaN           NaN\n",
      "min                      3.319483e+06  5.859834e+07\n",
      "25%                      3.319483e+06  5.859834e+07\n",
      "50%                      3.319483e+06  5.859834e+07\n",
      "75%                      3.319483e+06  5.859834e+07\n",
      "max                      3.319483e+06  5.859834e+07\n"
     ]
    }
   ],
   "source": [
    "summaryOfData(forest_cover_extent)"
   ]
  },
  {
   "cell_type": "markdown",
   "metadata": {},
   "source": [
    "### Check For Null Values and Outliers"
   ]
  },
  {
   "cell_type": "code",
   "execution_count": 172,
   "metadata": {},
   "outputs": [
    {
     "name": "stdout",
     "output_type": "stream",
     "text": [
      "Null Values Present in Data\n",
      "tsc_tree_cover_loss_drivers__driver       0.0\n",
      "umd_tree_cover_loss__year                 0.0\n",
      "umd_tree_cover_loss__ha                   0.0\n",
      "gfw_gross_emissions_co2e_all_gases__Mg    0.0\n",
      "dtype: float64\n"
     ]
    }
   ],
   "source": [
    "# checking missing values \n",
    "checkNullValues(forest_cover_loss) "
   ]
  },
  {
   "cell_type": "code",
   "execution_count": 173,
   "metadata": {},
   "outputs": [
    {
     "name": "stdout",
     "output_type": "stream",
     "text": [
      "Null Values Present in Data\n",
      "iso                               0.0\n",
      "umd_tree_cover_extent_2000__ha    0.0\n",
      "area__ha                          0.0\n",
      "dtype: float64\n"
     ]
    }
   ],
   "source": [
    "# checking missing values \n",
    "checkNullValues(forest_cover_extent)  "
   ]
  },
  {
   "cell_type": "markdown",
   "metadata": {},
   "source": [
    "### Checking for Outliers using IQR (Inter Quartile Range) and Box Plots for visualization\n",
    "\n",
    "**Formulaes**\n",
    "IQR = Quartile3 – Quartile1\n",
    "upperBound = Q3 + 1.5*IQR\n",
    "lowerBound = Q1 – 1.5*IQR\n"
   ]
  },
  {
   "cell_type": "code",
   "execution_count": 174,
   "metadata": {},
   "outputs": [
    {
     "name": "stdout",
     "output_type": "stream",
     "text": [
      "Inter Quartile Range: 370.0310606437092\n",
      "Lower Bound: -429.92118090567\n",
      "Upper Bound: 1050.2030616691668\n"
     ]
    }
   ],
   "source": [
    "# Checking for Outliers using IQR (Inter Quartile Range) \n",
    "checkOutliersIQR(forest_cover_loss['umd_tree_cover_loss__ha'])  "
   ]
  },
  {
   "cell_type": "code",
   "execution_count": 175,
   "metadata": {},
   "outputs": [
    {
     "data": {
      "image/png": "[encoded data removed]",
      "text/plain": [
       "<Figure size 640x480 with 1 Axes>"
      ]
     },
     "metadata": {},
     "output_type": "display_data"
    }
   ],
   "source": [
    "# Checking for Outliers Using BoxPlot \n",
    "checkOutliersBoxplot(forest_cover_extent)"
   ]
  },
  {
   "cell_type": "code",
   "execution_count": 176,
   "metadata": {},
   "outputs": [
    {
     "data": {
      "image/png": "[encoded data removed]",
      "text/plain": [
       "<Figure size 640x480 with 1 Axes>"
      ]
     },
     "metadata": {},
     "output_type": "display_data"
    }
   ],
   "source": [
    "# Checking for Outliers using Box Plots \n",
    "checkOutliersBoxplot(forest_cover_loss)"
   ]
  },
  {
   "cell_type": "markdown",
   "metadata": {},
   "source": [
    "**Note:** \n",
    "- Good News, The data lacks missing values\n",
    "- However, we find that there exists outliers based on the tree cover loss but based on context of the data there exists a chance of the outliers being true values as opposed to outlier values."
   ]
  },
  {
   "cell_type": "markdown",
   "metadata": {},
   "source": [
    "#### Focuses on the Locations of tree cover loss in Kenya\n",
    "- Kindly note we will merge the adm1_metadata.csv with the treecover_extent_2000_by_region_ha.csv due to the locations"
   ]
  },
  {
   "cell_type": "code",
   "execution_count": 177,
   "metadata": {},
   "outputs": [],
   "source": [
    "# contains Kenya County based details\n",
    "adm1_metadata = readCSV(\"data/Forest Cover/Location of tree cover loss in Kenya/adm1_metadata.csv\")\n",
    "# contains Forest cover extent and loss per region\n",
    "forest_cover_extent_by_region = readCSV(\"data/Forest Cover/Location of tree cover loss in Kenya/treecover_extent_2000_by_region__ha.csv\")\n",
    "forest_cover_loss_by_region =readCSV(\"data/Forest Cover/Location of tree cover loss in Kenya/treecover_loss_by_region__ha.csv\")\n"
   ]
  },
  {
   "cell_type": "code",
   "execution_count": 178,
   "metadata": {},
   "outputs": [],
   "source": [
    "# Merge DataFrames\n",
    "forest_cover_extent_by_region_merged = pd.merge(forest_cover_extent_by_region, adm1_metadata, left_on='adm1', right_on='adm1__id', how='inner')\n",
    "\n",
    "# Drop unnecessary columns\n",
    "unnecessary_columns = ['adm1', 'adm1__id', 'iso']\n",
    "forest_cover_extent_by_region_merged = forest_cover_extent_by_region_merged.drop(columns=unnecessary_columns)\n",
    "\n",
    "# Reset index without inplace\n",
    "forest_cover_extent_by_region_merged.reset_index(drop=True, inplace=True)"
   ]
  },
  {
   "cell_type": "code",
   "execution_count": 179,
   "metadata": {},
   "outputs": [
    {
     "data": {
      "text/html": [
       "<div>\n",
       "<style scoped>\n",
       "    .dataframe tbody tr th:only-of-type {\n",
       "        vertical-align: middle;\n",
       "    }\n",
       "\n",
       "    .dataframe tbody tr th {\n",
       "        vertical-align: top;\n",
       "    }\n",
       "\n",
       "    .dataframe thead th {\n",
       "        text-align: right;\n",
       "    }\n",
       "</style>\n",
       "<table border=\"1\" class=\"dataframe\">\n",
       "  <thead>\n",
       "    <tr style=\"text-align: right;\">\n",
       "      <th></th>\n",
       "      <th>umd_tree_cover_extent_2000__ha</th>\n",
       "      <th>area__ha</th>\n",
       "      <th>name</th>\n",
       "    </tr>\n",
       "  </thead>\n",
       "  <tbody>\n",
       "    <tr>\n",
       "      <th>0</th>\n",
       "      <td>113989.000894</td>\n",
       "      <td>1.084248e+06</td>\n",
       "      <td>Baringo</td>\n",
       "    </tr>\n",
       "    <tr>\n",
       "      <th>1</th>\n",
       "      <td>120633.520455</td>\n",
       "      <td>2.378441e+05</td>\n",
       "      <td>Bomet</td>\n",
       "    </tr>\n",
       "    <tr>\n",
       "      <th>2</th>\n",
       "      <td>71112.041454</td>\n",
       "      <td>3.573152e+05</td>\n",
       "      <td>Bungoma</td>\n",
       "    </tr>\n",
       "    <tr>\n",
       "      <th>3</th>\n",
       "      <td>22038.531962</td>\n",
       "      <td>1.799546e+05</td>\n",
       "      <td>Busia</td>\n",
       "    </tr>\n",
       "    <tr>\n",
       "      <th>4</th>\n",
       "      <td>107098.334326</td>\n",
       "      <td>2.804070e+05</td>\n",
       "      <td>Elgeyo-Marakwet</td>\n",
       "    </tr>\n",
       "  </tbody>\n",
       "</table>\n",
       "</div>"
      ],
      "text/plain": [
       "   umd_tree_cover_extent_2000__ha      area__ha             name\n",
       "0                   113989.000894  1.084248e+06          Baringo\n",
       "1                   120633.520455  2.378441e+05            Bomet\n",
       "2                    71112.041454  3.573152e+05          Bungoma\n",
       "3                    22038.531962  1.799546e+05            Busia\n",
       "4                   107098.334326  2.804070e+05  Elgeyo-Marakwet"
      ]
     },
     "execution_count": 179,
     "metadata": {},
     "output_type": "execute_result"
    }
   ],
   "source": [
    "# Viewing the Data\n",
    "forest_cover_extent_by_region_merged.head()"
   ]
  },
  {
   "cell_type": "markdown",
   "metadata": {},
   "source": [
    "#### Focuses on the Primary Forest Loss in Kenya\n",
    "- Focuses wholly on the tree cover loss per year "
   ]
  },
  {
   "cell_type": "code",
   "execution_count": 180,
   "metadata": {},
   "outputs": [],
   "source": [
    "primary_forests_2001_tropics_only = readCSV(\"data/Forest Cover/Primary Forest loss in Kenya/treecover_extent_2000_in_primary_forests_2001_tropics_only__ha.csv\")\n",
    "primary_forest_cover_loss_2001_tropics_only = readCSV(\"data/Forest Cover/Primary Forest loss in Kenya/treecover_extent_2000_in_primary_forests_2001_tropics_only__ha.csv\")\n",
    "primary_forest_cover_loss_ha = readCSV(\"data/Forest Cover/Primary Forest loss in Kenya/treecover_loss__ha.csv\")"
   ]
  },
  {
   "cell_type": "code",
   "execution_count": 181,
   "metadata": {},
   "outputs": [
    {
     "name": "stdout",
     "output_type": "stream",
     "text": [
      "Statistical Summary of data\n",
      "       umd_tree_cover_extent_2000__ha       area__ha\n",
      "count                        1.000000       1.000000\n",
      "mean                    649579.402794  650650.989627\n",
      "std                               NaN            NaN\n",
      "min                     649579.402794  650650.989627\n",
      "25%                     649579.402794  650650.989627\n",
      "50%                     649579.402794  650650.989627\n",
      "75%                     649579.402794  650650.989627\n",
      "max                     649579.402794  650650.989627\n"
     ]
    }
   ],
   "source": [
    "summaryOfData(primary_forests_2001_tropics_only)"
   ]
  },
  {
   "cell_type": "code",
   "execution_count": 182,
   "metadata": {},
   "outputs": [
    {
     "name": "stdout",
     "output_type": "stream",
     "text": [
      "Statistical Summary of data\n",
      "       umd_tree_cover_extent_2000__ha       area__ha\n",
      "count                        1.000000       1.000000\n",
      "mean                    649579.402794  650650.989627\n",
      "std                               NaN            NaN\n",
      "min                     649579.402794  650650.989627\n",
      "25%                     649579.402794  650650.989627\n",
      "50%                     649579.402794  650650.989627\n",
      "75%                     649579.402794  650650.989627\n",
      "max                     649579.402794  650650.989627\n"
     ]
    }
   ],
   "source": [
    "summaryOfData(primary_forest_cover_loss_2001_tropics_only)"
   ]
  },
  {
   "cell_type": "code",
   "execution_count": 183,
   "metadata": {},
   "outputs": [
    {
     "name": "stdout",
     "output_type": "stream",
     "text": [
      "Statistical Summary of data\n",
      "       umd_tree_cover_loss__year  umd_tree_cover_loss__ha  \\\n",
      "count                  22.000000                22.000000   \n",
      "mean                 2011.500000             17046.704571   \n",
      "std                     6.493587              4524.888037   \n",
      "min                  2001.000000              6639.031072   \n",
      "25%                  2006.250000             15421.504702   \n",
      "50%                  2011.500000             17497.941677   \n",
      "75%                  2016.750000             19180.233260   \n",
      "max                  2022.000000             26102.960081   \n",
      "\n",
      "       gfw_gross_emissions_co2e_all_gases__Mg  \n",
      "count                            2.200000e+01  \n",
      "mean                             8.375434e+06  \n",
      "std                              2.381587e+06  \n",
      "min                              3.695346e+06  \n",
      "25%                              7.306174e+06  \n",
      "50%                              8.438305e+06  \n",
      "75%                              9.715285e+06  \n",
      "max                              1.296864e+07  \n"
     ]
    }
   ],
   "source": [
    "summaryOfData(primary_forest_cover_loss_ha)"
   ]
  },
  {
   "cell_type": "markdown",
   "metadata": {},
   "source": [
    "## 2. GHG Emissions\n",
    "- County Groupings\n",
    "- Annual Emissions (1830-2021)\n",
    "- Emissions Cumulative CO2e (1851-2021)\n",
    "- GMST_respoonse \n",
    "\n",
    "### About Data\n",
    "**EMISSIONS_ANNUAL_1830-2021.csv**: Data includes **annual emissions of CO2** (Pg CO2 year-1), CH4 (Tg CH4 year-1) and N2O (Tg N2O year-1) during 1830-2021. The Data column provides values for every combination of the categorical variables. \n",
    "\n",
    "**EMISSIONS_CUMULATIVE_CO2e100_1851-2021.csv**: Data includes the **cumulative CO2 equivalent emissions** in units Pg CO2-e100 during 1851-2021. The Data column provides values for every combination of the categorical variables. \n",
    "\n",
    "**GMST_response_1851-2021.csv**: Data includes the change in **global mean surface temperature** (GMST) due to emissions of the three gases during 1851-2021 in units °C. The Data column provides values for every combination of the categorical variables. \n"
   ]
  },
  {
   "cell_type": "code",
   "execution_count": 184,
   "metadata": {},
   "outputs": [],
   "source": [
    "# country_groupings = readXLS(\"data/GHG Emissions/COUNTRY_GROUPINGS.xlsx\") # No need to read this as it contains the country codes\n",
    "annual_emissions = readCSV(\"data/GHG Emissions/EMISSIONS_ANNUAL_1830-2021.csv\")\n",
    "cumulative_emissions = readCSV(\"data/GHG Emissions/EMISSIONS_CUMULATIVE_CO2e100_1851-2021.csv\")\n",
    "global_mean_surface_temperature_reponse = readCSV(\"data/GHG Emissions/GMST_response_1851-2021.csv\")"
   ]
  },
  {
   "cell_type": "markdown",
   "metadata": {},
   "source": [
    "### Overview of into the data\n",
    "- Overview of Data using df.head()\n",
    "- Checking Data types\n",
    "- Checking the dimension of the data"
   ]
  },
  {
   "cell_type": "markdown",
   "metadata": {},
   "source": [
    "#### Annual Emissions Summary & Describe"
   ]
  },
  {
   "cell_type": "code",
   "execution_count": 185,
   "metadata": {},
   "outputs": [
    {
     "name": "stdout",
     "output_type": "stream",
     "text": [
      "Statistical Summary of data\n",
      "                Year           Data\n",
      "count  369048.000000  368280.000000\n",
      "mean     1926.478734       0.733928\n",
      "std        54.967060       6.863213\n",
      "min      1830.000000      -0.401257\n",
      "25%      1879.000000       0.000124\n",
      "50%      1927.000000       0.003339\n",
      "75%      1974.000000       0.043417\n",
      "max      2021.000000     364.929660\n"
     ]
    }
   ],
   "source": [
    "summaryOfData(annual_emissions)"
   ]
  },
  {
   "cell_type": "code",
   "execution_count": 186,
   "metadata": {},
   "outputs": [
    {
     "name": "stdout",
     "output_type": "stream",
     "text": [
      "--------------------\n",
      " OVERVIEW OF DATA \n",
      "--------------------\n",
      "     CNTR_NAME ISO3    Gas Component  Year      Data              Unit\n",
      "0  Afghanistan  AFG  CH[4]    Fossil  1830  0.018746  Tg~CH[4]~year^-1\n",
      "1  Afghanistan  AFG  CH[4]    Fossil  1831  0.018850  Tg~CH[4]~year^-1\n",
      "2  Afghanistan  AFG  CH[4]    Fossil  1832  0.018953  Tg~CH[4]~year^-1\n",
      "3  Afghanistan  AFG  CH[4]    Fossil  1833  0.019057  Tg~CH[4]~year^-1\n",
      "4  Afghanistan  AFG  CH[4]    Fossil  1834  0.019161  Tg~CH[4]~year^-1\n",
      "--------------------\n",
      " DATA TYPES \n",
      "--------------------\n",
      "CNTR_NAME     object\n",
      "ISO3          object\n",
      "Gas           object\n",
      "Component     object\n",
      "Year           int64\n",
      "Data         float64\n",
      "Unit          object\n",
      "dtype: object\n",
      "--------------------\n",
      " DATAFRAME SHAPE \n",
      "--------------------\n",
      "(369048, 7)\n"
     ]
    }
   ],
   "source": [
    "describeData(annual_emissions)"
   ]
  },
  {
   "cell_type": "markdown",
   "metadata": {},
   "source": [
    "#### Cumulative Emissions Summary & Describe"
   ]
  },
  {
   "cell_type": "code",
   "execution_count": 187,
   "metadata": {},
   "outputs": [
    {
     "name": "stdout",
     "output_type": "stream",
     "text": [
      "Statistical Summary of data\n",
      "                Year           Data\n",
      "count  450585.000000  450585.000000\n",
      "mean     1936.000000       7.251899\n",
      "std        49.362659      62.541571\n",
      "min      1851.000000      -2.800884\n",
      "25%      1893.000000       0.001642\n",
      "50%      1936.000000       0.040730\n",
      "75%      1979.000000       0.529036\n",
      "max      2021.000000    3576.508126\n"
     ]
    }
   ],
   "source": [
    "summaryOfData(cumulative_emissions)"
   ]
  },
  {
   "cell_type": "code",
   "execution_count": 188,
   "metadata": {},
   "outputs": [
    {
     "name": "stdout",
     "output_type": "stream",
     "text": [
      "--------------------\n",
      " OVERVIEW OF DATA \n",
      "--------------------\n",
      "     CNTR_NAME ISO3    Gas Component  Year      Data              Unit\n",
      "0  Afghanistan  AFG  3-GHG    Fossil  1851  0.000455  Pg~CO[2]*-e[100]\n",
      "1  Afghanistan  AFG  3-GHG    Fossil  1852  0.000913  Pg~CO[2]*-e[100]\n",
      "2  Afghanistan  AFG  3-GHG    Fossil  1853  0.001375  Pg~CO[2]*-e[100]\n",
      "3  Afghanistan  AFG  3-GHG    Fossil  1854  0.001841  Pg~CO[2]*-e[100]\n",
      "4  Afghanistan  AFG  3-GHG    Fossil  1855  0.002311  Pg~CO[2]*-e[100]\n",
      "--------------------\n",
      " DATA TYPES \n",
      "--------------------\n",
      "CNTR_NAME     object\n",
      "ISO3          object\n",
      "Gas           object\n",
      "Component     object\n",
      "Year           int64\n",
      "Data         float64\n",
      "Unit          object\n",
      "dtype: object\n",
      "--------------------\n",
      " DATAFRAME SHAPE \n",
      "--------------------\n",
      "(450585, 7)\n"
     ]
    }
   ],
   "source": [
    "describeData(cumulative_emissions)"
   ]
  },
  {
   "cell_type": "markdown",
   "metadata": {},
   "source": [
    "#### Global Mean Surface Temperature Response Summary & Describe"
   ]
  },
  {
   "cell_type": "code",
   "execution_count": 189,
   "metadata": {},
   "outputs": [
    {
     "name": "stdout",
     "output_type": "stream",
     "text": [
      "Statistical Summary of data\n",
      "                Year          Data\n",
      "count  450585.000000  4.505850e+05\n",
      "mean     1936.000000  3.265729e-03\n",
      "std        49.362659  2.816419e-02\n",
      "min      1851.000000 -1.261315e-03\n",
      "25%      1893.000000  7.393887e-07\n",
      "50%      1936.000000  1.834198e-05\n",
      "75%      1979.000000  2.382394e-04\n",
      "max      2021.000000  1.610600e+00\n"
     ]
    }
   ],
   "source": [
    "summaryOfData(global_mean_surface_temperature_reponse)"
   ]
  },
  {
   "cell_type": "code",
   "execution_count": 190,
   "metadata": {},
   "outputs": [
    {
     "name": "stdout",
     "output_type": "stream",
     "text": [
      "--------------------\n",
      " OVERVIEW OF DATA \n",
      "--------------------\n",
      "     CNTR_NAME ISO3    Gas Component  Year          Data Unit\n",
      "0  Afghanistan  AFG  3-GHG    Fossil  1851  2.047658e-07   °C\n",
      "1  Afghanistan  AFG  3-GHG    Fossil  1852  4.112079e-07   °C\n",
      "2  Afghanistan  AFG  3-GHG    Fossil  1853  6.193339e-07   °C\n",
      "3  Afghanistan  AFG  3-GHG    Fossil  1854  8.291519e-07   °C\n",
      "4  Afghanistan  AFG  3-GHG    Fossil  1855  1.040669e-06   °C\n",
      "--------------------\n",
      " DATA TYPES \n",
      "--------------------\n",
      "CNTR_NAME     object\n",
      "ISO3          object\n",
      "Gas           object\n",
      "Component     object\n",
      "Year           int64\n",
      "Data         float64\n",
      "Unit          object\n",
      "dtype: object\n",
      "--------------------\n",
      " DATAFRAME SHAPE \n",
      "--------------------\n",
      "(450585, 7)\n"
     ]
    }
   ],
   "source": [
    "describeData(global_mean_surface_temperature_reponse)"
   ]
  },
  {
   "cell_type": "markdown",
   "metadata": {},
   "source": [
    "### Check forr Null and Outliers\n",
    "- Check Summary of the data in terms of null values\n",
    "- Checking for Outliers using IQR (Inter Quartile Range) and Box Plots for visualization\n",
    "    - **Formulaes**\n",
    "    - IQR = Quartile3 – Quartile1\n",
    "    - upperBound = Q3 + 1.5*IQR\n",
    "    - lowerBound = Q1 – 1.5*IQR"
   ]
  },
  {
   "cell_type": "code",
   "execution_count": 191,
   "metadata": {},
   "outputs": [
    {
     "name": "stdout",
     "output_type": "stream",
     "text": [
      "Null Values Present in Data\n",
      "CNTR_NAME    0.000000\n",
      "ISO3         0.000000\n",
      "Gas          0.000000\n",
      "Component    0.000000\n",
      "Year         0.000000\n",
      "Data         0.208103\n",
      "Unit         0.000000\n",
      "dtype: float64\n"
     ]
    }
   ],
   "source": [
    "# checking missing values \n",
    "checkNullValues(annual_emissions)  "
   ]
  },
  {
   "cell_type": "code",
   "execution_count": 192,
   "metadata": {},
   "outputs": [
    {
     "name": "stdout",
     "output_type": "stream",
     "text": [
      "Null Values Present in Data\n",
      "CNTR_NAME    0.0\n",
      "ISO3         0.0\n",
      "Gas          0.0\n",
      "Component    0.0\n",
      "Year         0.0\n",
      "Data         0.0\n",
      "Unit         0.0\n",
      "dtype: float64\n"
     ]
    }
   ],
   "source": [
    "# checking missing values  \n",
    "checkNullValues(cumulative_emissions)  "
   ]
  },
  {
   "cell_type": "code",
   "execution_count": 193,
   "metadata": {},
   "outputs": [
    {
     "name": "stdout",
     "output_type": "stream",
     "text": [
      "Null Values Present in Data\n",
      "CNTR_NAME    0.0\n",
      "ISO3         0.0\n",
      "Gas          0.0\n",
      "Component    0.0\n",
      "Year         0.0\n",
      "Data         0.0\n",
      "Unit         0.0\n",
      "dtype: float64\n"
     ]
    }
   ],
   "source": [
    "# checking missing values  \n",
    "checkNullValues(global_mean_surface_temperature_reponse)  "
   ]
  },
  {
   "cell_type": "code",
   "execution_count": 194,
   "metadata": {},
   "outputs": [
    {
     "data": {
      "image/png": "[encoded data removed]",
      "text/plain": [
       "<Figure size 640x480 with 1 Axes>"
      ]
     },
     "metadata": {},
     "output_type": "display_data"
    }
   ],
   "source": [
    "# Checking for Outliers using Box Plots \n",
    "checkOutliersBoxplot(annual_emissions)"
   ]
  },
  {
   "cell_type": "code",
   "execution_count": 195,
   "metadata": {},
   "outputs": [
    {
     "data": {
      "image/png": "[encoded data removed]",
      "text/plain": [
       "<Figure size 640x480 with 1 Axes>"
      ]
     },
     "metadata": {},
     "output_type": "display_data"
    }
   ],
   "source": [
    "# Checking for Outliers using Box Plots \n",
    "checkOutliersBoxplot(cumulative_emissions)"
   ]
  },
  {
   "cell_type": "code",
   "execution_count": 196,
   "metadata": {},
   "outputs": [
    {
     "data": {
      "image/png": "[encoded data removed]",
      "text/plain": [
       "<Figure size 640x480 with 1 Axes>"
      ]
     },
     "metadata": {},
     "output_type": "display_data"
    }
   ],
   "source": [
    "# Checking for Outliers using Box Plots \n",
    "checkOutliersBoxplot(global_mean_surface_temperature_reponse)"
   ]
  },
  {
   "cell_type": "markdown",
   "metadata": {},
   "source": [
    "# Visualizations\n",
    "\n",
    "- Forest Cover Loss in Kenya\n",
    "- GHG Emissions in Kenya\n"
   ]
  },
  {
   "cell_type": "markdown",
   "metadata": {},
   "source": [
    "# Prediction & Modeling \n",
    "- Predict the next probable driver of deforestration\n",
    "- Predict emissions based on cummulative GHG data (we use cummulative as it focuses on Long term)\n",
    "- Predict global mean surfrace temperature (GMST)\n"
   ]
  },
  {
   "cell_type": "markdown",
   "metadata": {},
   "source": [
    "### 1. Predict the next probable driver of deforestration\n",
    "Target Algorithms: \n",
    "- Decision Trees\n",
    "- Random Forest \n",
    "- Logistic Regression\n",
    "\n",
    "Target Data: Annual TreeCover Loss by dominant drive\n",
    "Type of Data: Categorical"
   ]
  },
  {
   "cell_type": "code",
   "execution_count": 197,
   "metadata": {},
   "outputs": [],
   "source": [
    "forest_cover_loss.reset_index(drop=True, inplace=True)"
   ]
  },
  {
   "cell_type": "code",
   "execution_count": 198,
   "metadata": {},
   "outputs": [
    {
     "data": {
      "text/html": [
       "<div>\n",
       "<style scoped>\n",
       "    .dataframe tbody tr th:only-of-type {\n",
       "        vertical-align: middle;\n",
       "    }\n",
       "\n",
       "    .dataframe tbody tr th {\n",
       "        vertical-align: top;\n",
       "    }\n",
       "\n",
       "    .dataframe thead th {\n",
       "        text-align: right;\n",
       "    }\n",
       "</style>\n",
       "<table border=\"1\" class=\"dataframe\">\n",
       "  <thead>\n",
       "    <tr style=\"text-align: right;\">\n",
       "      <th></th>\n",
       "      <th>tsc_tree_cover_loss_drivers__driver</th>\n",
       "      <th>umd_tree_cover_loss__year</th>\n",
       "      <th>umd_tree_cover_loss__ha</th>\n",
       "      <th>gfw_gross_emissions_co2e_all_gases__Mg</th>\n",
       "    </tr>\n",
       "  </thead>\n",
       "  <tbody>\n",
       "    <tr>\n",
       "      <th>0</th>\n",
       "      <td>Unknown</td>\n",
       "      <td>2012</td>\n",
       "      <td>270.305210</td>\n",
       "      <td>8.048608e+04</td>\n",
       "    </tr>\n",
       "    <tr>\n",
       "      <th>1</th>\n",
       "      <td>Forestry</td>\n",
       "      <td>2021</td>\n",
       "      <td>103.917887</td>\n",
       "      <td>9.014521e+04</td>\n",
       "    </tr>\n",
       "    <tr>\n",
       "      <th>2</th>\n",
       "      <td>Shifting agriculture</td>\n",
       "      <td>2019</td>\n",
       "      <td>14614.369913</td>\n",
       "      <td>6.670329e+06</td>\n",
       "    </tr>\n",
       "    <tr>\n",
       "      <th>3</th>\n",
       "      <td>Forestry</td>\n",
       "      <td>2020</td>\n",
       "      <td>490.616006</td>\n",
       "      <td>2.383159e+05</td>\n",
       "    </tr>\n",
       "    <tr>\n",
       "      <th>4</th>\n",
       "      <td>Unknown</td>\n",
       "      <td>2019</td>\n",
       "      <td>114.893385</td>\n",
       "      <td>4.442652e+04</td>\n",
       "    </tr>\n",
       "    <tr>\n",
       "      <th>...</th>\n",
       "      <td>...</td>\n",
       "      <td>...</td>\n",
       "      <td>...</td>\n",
       "      <td>...</td>\n",
       "    </tr>\n",
       "    <tr>\n",
       "      <th>127</th>\n",
       "      <td>Unknown</td>\n",
       "      <td>2004</td>\n",
       "      <td>129.422287</td>\n",
       "      <td>3.506442e+04</td>\n",
       "    </tr>\n",
       "    <tr>\n",
       "      <th>128</th>\n",
       "      <td>Shifting agriculture</td>\n",
       "      <td>2017</td>\n",
       "      <td>20414.895399</td>\n",
       "      <td>1.147155e+07</td>\n",
       "    </tr>\n",
       "    <tr>\n",
       "      <th>129</th>\n",
       "      <td>Wildfire</td>\n",
       "      <td>2008</td>\n",
       "      <td>27.562667</td>\n",
       "      <td>1.131171e+04</td>\n",
       "    </tr>\n",
       "    <tr>\n",
       "      <th>130</th>\n",
       "      <td>Wildfire</td>\n",
       "      <td>2018</td>\n",
       "      <td>65.680043</td>\n",
       "      <td>2.640220e+04</td>\n",
       "    </tr>\n",
       "    <tr>\n",
       "      <th>131</th>\n",
       "      <td>Shifting agriculture</td>\n",
       "      <td>2014</td>\n",
       "      <td>13674.328884</td>\n",
       "      <td>6.771406e+06</td>\n",
       "    </tr>\n",
       "  </tbody>\n",
       "</table>\n",
       "<p>132 rows × 4 columns</p>\n",
       "</div>"
      ],
      "text/plain": [
       "    tsc_tree_cover_loss_drivers__driver  umd_tree_cover_loss__year  \\\n",
       "0                               Unknown                       2012   \n",
       "1                              Forestry                       2021   \n",
       "2                  Shifting agriculture                       2019   \n",
       "3                              Forestry                       2020   \n",
       "4                               Unknown                       2019   \n",
       "..                                  ...                        ...   \n",
       "127                             Unknown                       2004   \n",
       "128                Shifting agriculture                       2017   \n",
       "129                            Wildfire                       2008   \n",
       "130                            Wildfire                       2018   \n",
       "131                Shifting agriculture                       2014   \n",
       "\n",
       "     umd_tree_cover_loss__ha  gfw_gross_emissions_co2e_all_gases__Mg  \n",
       "0                 270.305210                            8.048608e+04  \n",
       "1                 103.917887                            9.014521e+04  \n",
       "2               14614.369913                            6.670329e+06  \n",
       "3                 490.616006                            2.383159e+05  \n",
       "4                 114.893385                            4.442652e+04  \n",
       "..                       ...                                     ...  \n",
       "127               129.422287                            3.506442e+04  \n",
       "128             20414.895399                            1.147155e+07  \n",
       "129                27.562667                            1.131171e+04  \n",
       "130                65.680043                            2.640220e+04  \n",
       "131             13674.328884                            6.771406e+06  \n",
       "\n",
       "[132 rows x 4 columns]"
      ]
     },
     "execution_count": 198,
     "metadata": {},
     "output_type": "execute_result"
    }
   ],
   "source": [
    "forest_cover_loss"
   ]
  },
  {
   "cell_type": "markdown",
   "metadata": {},
   "source": [
    "### Prepraring Data For Modelling"
   ]
  },
  {
   "cell_type": "code",
   "execution_count": 199,
   "metadata": {},
   "outputs": [
    {
     "data": {
      "text/html": [
       "<div>\n",
       "<style scoped>\n",
       "    .dataframe tbody tr th:only-of-type {\n",
       "        vertical-align: middle;\n",
       "    }\n",
       "\n",
       "    .dataframe tbody tr th {\n",
       "        vertical-align: top;\n",
       "    }\n",
       "\n",
       "    .dataframe thead th {\n",
       "        text-align: right;\n",
       "    }\n",
       "</style>\n",
       "<table border=\"1\" class=\"dataframe\">\n",
       "  <thead>\n",
       "    <tr style=\"text-align: right;\">\n",
       "      <th></th>\n",
       "      <th>tsc_tree_cover_loss_drivers__driver</th>\n",
       "      <th>umd_tree_cover_loss__year</th>\n",
       "      <th>umd_tree_cover_loss__ha</th>\n",
       "      <th>gfw_gross_emissions_co2e_all_gases__Mg</th>\n",
       "    </tr>\n",
       "  </thead>\n",
       "  <tbody>\n",
       "    <tr>\n",
       "      <th>0</th>\n",
       "      <td>0</td>\n",
       "      <td>2012</td>\n",
       "      <td>270.305210</td>\n",
       "      <td>8.048608e+04</td>\n",
       "    </tr>\n",
       "    <tr>\n",
       "      <th>1</th>\n",
       "      <td>1</td>\n",
       "      <td>2021</td>\n",
       "      <td>103.917887</td>\n",
       "      <td>9.014521e+04</td>\n",
       "    </tr>\n",
       "    <tr>\n",
       "      <th>2</th>\n",
       "      <td>2</td>\n",
       "      <td>2019</td>\n",
       "      <td>14614.369913</td>\n",
       "      <td>6.670329e+06</td>\n",
       "    </tr>\n",
       "    <tr>\n",
       "      <th>3</th>\n",
       "      <td>1</td>\n",
       "      <td>2020</td>\n",
       "      <td>490.616006</td>\n",
       "      <td>2.383159e+05</td>\n",
       "    </tr>\n",
       "    <tr>\n",
       "      <th>4</th>\n",
       "      <td>0</td>\n",
       "      <td>2019</td>\n",
       "      <td>114.893385</td>\n",
       "      <td>4.442652e+04</td>\n",
       "    </tr>\n",
       "    <tr>\n",
       "      <th>...</th>\n",
       "      <td>...</td>\n",
       "      <td>...</td>\n",
       "      <td>...</td>\n",
       "      <td>...</td>\n",
       "    </tr>\n",
       "    <tr>\n",
       "      <th>127</th>\n",
       "      <td>0</td>\n",
       "      <td>2004</td>\n",
       "      <td>129.422287</td>\n",
       "      <td>3.506442e+04</td>\n",
       "    </tr>\n",
       "    <tr>\n",
       "      <th>128</th>\n",
       "      <td>2</td>\n",
       "      <td>2017</td>\n",
       "      <td>20414.895399</td>\n",
       "      <td>1.147155e+07</td>\n",
       "    </tr>\n",
       "    <tr>\n",
       "      <th>129</th>\n",
       "      <td>3</td>\n",
       "      <td>2008</td>\n",
       "      <td>27.562667</td>\n",
       "      <td>1.131171e+04</td>\n",
       "    </tr>\n",
       "    <tr>\n",
       "      <th>130</th>\n",
       "      <td>3</td>\n",
       "      <td>2018</td>\n",
       "      <td>65.680043</td>\n",
       "      <td>2.640220e+04</td>\n",
       "    </tr>\n",
       "    <tr>\n",
       "      <th>131</th>\n",
       "      <td>2</td>\n",
       "      <td>2014</td>\n",
       "      <td>13674.328884</td>\n",
       "      <td>6.771406e+06</td>\n",
       "    </tr>\n",
       "  </tbody>\n",
       "</table>\n",
       "<p>132 rows × 4 columns</p>\n",
       "</div>"
      ],
      "text/plain": [
       "     tsc_tree_cover_loss_drivers__driver  umd_tree_cover_loss__year  \\\n",
       "0                                      0                       2012   \n",
       "1                                      1                       2021   \n",
       "2                                      2                       2019   \n",
       "3                                      1                       2020   \n",
       "4                                      0                       2019   \n",
       "..                                   ...                        ...   \n",
       "127                                    0                       2004   \n",
       "128                                    2                       2017   \n",
       "129                                    3                       2008   \n",
       "130                                    3                       2018   \n",
       "131                                    2                       2014   \n",
       "\n",
       "     umd_tree_cover_loss__ha  gfw_gross_emissions_co2e_all_gases__Mg  \n",
       "0                 270.305210                            8.048608e+04  \n",
       "1                 103.917887                            9.014521e+04  \n",
       "2               14614.369913                            6.670329e+06  \n",
       "3                 490.616006                            2.383159e+05  \n",
       "4                 114.893385                            4.442652e+04  \n",
       "..                       ...                                     ...  \n",
       "127               129.422287                            3.506442e+04  \n",
       "128             20414.895399                            1.147155e+07  \n",
       "129                27.562667                            1.131171e+04  \n",
       "130                65.680043                            2.640220e+04  \n",
       "131             13674.328884                            6.771406e+06  \n",
       "\n",
       "[132 rows x 4 columns]"
      ]
     },
     "execution_count": 199,
     "metadata": {},
     "output_type": "execute_result"
    }
   ],
   "source": [
    "category_mapping = {'Unknown': 0, 'Forestry':1, 'Shifting agriculture':2,'Wildfire':3, 'Commodity driven deforestation':4,'Urbanization':5,}\n",
    "\n",
    "forest_cover_loss['tsc_tree_cover_loss_drivers__driver'] = forest_cover_loss['tsc_tree_cover_loss_drivers__driver'].map(category_mapping)\n",
    "\n",
    "forest_cover_loss"
   ]
  },
  {
   "cell_type": "code",
   "execution_count": 200,
   "metadata": {},
   "outputs": [],
   "source": [
    "# Train the decision tree model\n",
    "# decision_tree.fit(X_train, y_train) \n",
    "# Modeling using Decision Trees\n",
    "X = forest_cover_loss.drop([\"tsc_tree_cover_loss_drivers__driver\"],axis=1)\n",
    "y = forest_cover_loss[\"tsc_tree_cover_loss_drivers__driver\"]\n",
    "X_train, X_test, y_train, y_test = train_test_split(X, y, test_size=0.2, random_state=42)\n"
   ]
  },
  {
   "cell_type": "markdown",
   "metadata": {},
   "source": [
    "### Using Decision Trees"
   ]
  },
  {
   "cell_type": "code",
   "execution_count": 201,
   "metadata": {},
   "outputs": [
    {
     "name": "stdout",
     "output_type": "stream",
     "text": [
      "accuracy: 0.67\n",
      "Classification Report: \n",
      "               precision    recall  f1-score   support\n",
      "\n",
      "           0       1.00      0.50      0.67         6\n",
      "           1       0.67      0.50      0.57         4\n",
      "           2       1.00      1.00      1.00         7\n",
      "           3       0.67      1.00      0.80         2\n",
      "           4       0.60      0.75      0.67         4\n",
      "           5       0.17      0.25      0.20         4\n",
      "\n",
      "    accuracy                           0.67        27\n",
      "   macro avg       0.68      0.67      0.65        27\n",
      "weighted avg       0.74      0.67      0.68        27\n",
      "\n"
     ]
    }
   ],
   "source": [
    "# Create a decision tree classifier\n",
    "decision_tree = DecisionTreeClassifier(random_state=0)\n",
    "\n",
    "# fit model to training data\n",
    "decision_tree.fit(X_train,y_train)\n",
    "\n",
    "# make predictions of test set\n",
    "y_pred = decision_tree.predict(X_test)\n",
    "\n",
    "# Model Evaluation\n",
    "accuracy = accuracy_score(y_test, y_pred)\n",
    "classification_report_result = classification_report(y_test, y_pred)\n",
    "print(f'accuracy: {accuracy:.2f}')\n",
    "print(f'Classification Report: \\n {classification_report_result}')"
   ]
  },
  {
   "cell_type": "markdown",
   "metadata": {},
   "source": [
    "### Using Random Forest "
   ]
  },
  {
   "cell_type": "code",
   "execution_count": 202,
   "metadata": {},
   "outputs": [
    {
     "name": "stdout",
     "output_type": "stream",
     "text": [
      "Accuracy: 0.5555555555555556\n"
     ]
    }
   ],
   "source": [
    "# Instantiate the Model by creating a Random Forest classifier\n",
    "random_forest_classifier = RandomForestClassifier(n_estimators=100, random_state=42)\n",
    "\n",
    "# Train the Model\n",
    "random_forest_classifier.fit(X_train, y_train)\n",
    "\n",
    "# Make Predictions\n",
    "y_pred = random_forest_classifier.predict(X_test)\n",
    "\n",
    "# Evaluation Matrix\n",
    "accuracy = accuracy_score(y_test, y_pred)\n",
    "print(\"Accuracy:\", accuracy)\n",
    "\n"
   ]
  },
  {
   "cell_type": "markdown",
   "metadata": {},
   "source": [
    "### Using Logistic Regression"
   ]
  },
  {
   "cell_type": "code",
   "execution_count": 203,
   "metadata": {},
   "outputs": [
    {
     "name": "stdout",
     "output_type": "stream",
     "text": [
      "Accuracy: 0.5555555555555556\n"
     ]
    }
   ],
   "source": [
    "# Instantiate the Model\n",
    "logistics_regression = LogisticRegression()\n",
    "\n",
    "# 3. Train the Model\n",
    "# Train the logistic regression model\n",
    "logistics_regression.fit(X_train, y_train)\n",
    "\n",
    "# 4. Make Predictions\n",
    "# Make predictions on the testing data\n",
    "y_pred = logistics_regression.predict(X_test)\n",
    "\n",
    "# 5. Evaluate the Model\n",
    "# Evaluate the model's performance\n",
    "accuracy = accuracy_score(y_test, y_pred)\n",
    "print(\"Accuracy:\", accuracy)"
   ]
  },
  {
   "cell_type": "markdown",
   "metadata": {},
   "source": [
    "### 2. Predict emissions based on cummulative GHG data (we use cummulative as it focuses on Long term)\n",
    "- Using Time Series \n",
    "- Stationarity Check"
   ]
  },
  {
   "cell_type": "code",
   "execution_count": 204,
   "metadata": {},
   "outputs": [
    {
     "data": {
      "text/html": [
       "<div>\n",
       "<style scoped>\n",
       "    .dataframe tbody tr th:only-of-type {\n",
       "        vertical-align: middle;\n",
       "    }\n",
       "\n",
       "    .dataframe tbody tr th {\n",
       "        vertical-align: top;\n",
       "    }\n",
       "\n",
       "    .dataframe thead th {\n",
       "        text-align: right;\n",
       "    }\n",
       "</style>\n",
       "<table border=\"1\" class=\"dataframe\">\n",
       "  <thead>\n",
       "    <tr style=\"text-align: right;\">\n",
       "      <th></th>\n",
       "      <th>CNTR_NAME</th>\n",
       "      <th>ISO3</th>\n",
       "      <th>Gas</th>\n",
       "      <th>Component</th>\n",
       "      <th>Data</th>\n",
       "      <th>Unit</th>\n",
       "    </tr>\n",
       "    <tr>\n",
       "      <th>Year</th>\n",
       "      <th></th>\n",
       "      <th></th>\n",
       "      <th></th>\n",
       "      <th></th>\n",
       "      <th></th>\n",
       "      <th></th>\n",
       "    </tr>\n",
       "  </thead>\n",
       "  <tbody>\n",
       "    <tr>\n",
       "      <th>1851</th>\n",
       "      <td>Afghanistan</td>\n",
       "      <td>AFG</td>\n",
       "      <td>3-GHG</td>\n",
       "      <td>Fossil</td>\n",
       "      <td>0.000455</td>\n",
       "      <td>Pg~CO[2]*-e[100]</td>\n",
       "    </tr>\n",
       "    <tr>\n",
       "      <th>1852</th>\n",
       "      <td>Afghanistan</td>\n",
       "      <td>AFG</td>\n",
       "      <td>3-GHG</td>\n",
       "      <td>Fossil</td>\n",
       "      <td>0.000913</td>\n",
       "      <td>Pg~CO[2]*-e[100]</td>\n",
       "    </tr>\n",
       "    <tr>\n",
       "      <th>1853</th>\n",
       "      <td>Afghanistan</td>\n",
       "      <td>AFG</td>\n",
       "      <td>3-GHG</td>\n",
       "      <td>Fossil</td>\n",
       "      <td>0.001375</td>\n",
       "      <td>Pg~CO[2]*-e[100]</td>\n",
       "    </tr>\n",
       "    <tr>\n",
       "      <th>1854</th>\n",
       "      <td>Afghanistan</td>\n",
       "      <td>AFG</td>\n",
       "      <td>3-GHG</td>\n",
       "      <td>Fossil</td>\n",
       "      <td>0.001841</td>\n",
       "      <td>Pg~CO[2]*-e[100]</td>\n",
       "    </tr>\n",
       "    <tr>\n",
       "      <th>1855</th>\n",
       "      <td>Afghanistan</td>\n",
       "      <td>AFG</td>\n",
       "      <td>3-GHG</td>\n",
       "      <td>Fossil</td>\n",
       "      <td>0.002311</td>\n",
       "      <td>Pg~CO[2]*-e[100]</td>\n",
       "    </tr>\n",
       "    <tr>\n",
       "      <th>...</th>\n",
       "      <td>...</td>\n",
       "      <td>...</td>\n",
       "      <td>...</td>\n",
       "      <td>...</td>\n",
       "      <td>...</td>\n",
       "      <td>...</td>\n",
       "    </tr>\n",
       "    <tr>\n",
       "      <th>2017</th>\n",
       "      <td>Zimbabwe</td>\n",
       "      <td>ZWE</td>\n",
       "      <td>N[2]*O</td>\n",
       "      <td>Total</td>\n",
       "      <td>0.356874</td>\n",
       "      <td>Pg~CO[2]*-e[100]</td>\n",
       "    </tr>\n",
       "    <tr>\n",
       "      <th>2018</th>\n",
       "      <td>Zimbabwe</td>\n",
       "      <td>ZWE</td>\n",
       "      <td>N[2]*O</td>\n",
       "      <td>Total</td>\n",
       "      <td>0.362102</td>\n",
       "      <td>Pg~CO[2]*-e[100]</td>\n",
       "    </tr>\n",
       "    <tr>\n",
       "      <th>2019</th>\n",
       "      <td>Zimbabwe</td>\n",
       "      <td>ZWE</td>\n",
       "      <td>N[2]*O</td>\n",
       "      <td>Total</td>\n",
       "      <td>0.367381</td>\n",
       "      <td>Pg~CO[2]*-e[100]</td>\n",
       "    </tr>\n",
       "    <tr>\n",
       "      <th>2020</th>\n",
       "      <td>Zimbabwe</td>\n",
       "      <td>ZWE</td>\n",
       "      <td>N[2]*O</td>\n",
       "      <td>Total</td>\n",
       "      <td>0.372619</td>\n",
       "      <td>Pg~CO[2]*-e[100]</td>\n",
       "    </tr>\n",
       "    <tr>\n",
       "      <th>2021</th>\n",
       "      <td>Zimbabwe</td>\n",
       "      <td>ZWE</td>\n",
       "      <td>N[2]*O</td>\n",
       "      <td>Total</td>\n",
       "      <td>0.377849</td>\n",
       "      <td>Pg~CO[2]*-e[100]</td>\n",
       "    </tr>\n",
       "  </tbody>\n",
       "</table>\n",
       "<p>450585 rows × 6 columns</p>\n",
       "</div>"
      ],
      "text/plain": [
       "        CNTR_NAME ISO3     Gas Component      Data              Unit\n",
       "Year                                                                \n",
       "1851  Afghanistan  AFG   3-GHG    Fossil  0.000455  Pg~CO[2]*-e[100]\n",
       "1852  Afghanistan  AFG   3-GHG    Fossil  0.000913  Pg~CO[2]*-e[100]\n",
       "1853  Afghanistan  AFG   3-GHG    Fossil  0.001375  Pg~CO[2]*-e[100]\n",
       "1854  Afghanistan  AFG   3-GHG    Fossil  0.001841  Pg~CO[2]*-e[100]\n",
       "1855  Afghanistan  AFG   3-GHG    Fossil  0.002311  Pg~CO[2]*-e[100]\n",
       "...           ...  ...     ...       ...       ...               ...\n",
       "2017     Zimbabwe  ZWE  N[2]*O     Total  0.356874  Pg~CO[2]*-e[100]\n",
       "2018     Zimbabwe  ZWE  N[2]*O     Total  0.362102  Pg~CO[2]*-e[100]\n",
       "2019     Zimbabwe  ZWE  N[2]*O     Total  0.367381  Pg~CO[2]*-e[100]\n",
       "2020     Zimbabwe  ZWE  N[2]*O     Total  0.372619  Pg~CO[2]*-e[100]\n",
       "2021     Zimbabwe  ZWE  N[2]*O     Total  0.377849  Pg~CO[2]*-e[100]\n",
       "\n",
       "[450585 rows x 6 columns]"
      ]
     },
     "execution_count": 204,
     "metadata": {},
     "output_type": "execute_result"
    }
   ],
   "source": [
    "# cumulative_emissions['Year'] = pd.to_datetime(cumulative_emissions['Year'])\n",
    "\n",
    "cumulative_emissions.set_index('Year',inplace=True)\n",
    "cumulative_emissions"
   ]
  },
  {
   "cell_type": "code",
   "execution_count": 205,
   "metadata": {},
   "outputs": [
    {
     "data": {
      "text/html": [
       "<div>\n",
       "<style scoped>\n",
       "    .dataframe tbody tr th:only-of-type {\n",
       "        vertical-align: middle;\n",
       "    }\n",
       "\n",
       "    .dataframe tbody tr th {\n",
       "        vertical-align: top;\n",
       "    }\n",
       "\n",
       "    .dataframe thead th {\n",
       "        text-align: right;\n",
       "    }\n",
       "</style>\n",
       "<table border=\"1\" class=\"dataframe\">\n",
       "  <thead>\n",
       "    <tr style=\"text-align: right;\">\n",
       "      <th></th>\n",
       "      <th>CNTR_NAME</th>\n",
       "      <th>ISO3</th>\n",
       "      <th>Gas</th>\n",
       "      <th>Component</th>\n",
       "      <th>Data</th>\n",
       "      <th>Unit</th>\n",
       "    </tr>\n",
       "    <tr>\n",
       "      <th>Year</th>\n",
       "      <th></th>\n",
       "      <th></th>\n",
       "      <th></th>\n",
       "      <th></th>\n",
       "      <th></th>\n",
       "      <th></th>\n",
       "    </tr>\n",
       "  </thead>\n",
       "  <tbody>\n",
       "    <tr>\n",
       "      <th>1851</th>\n",
       "      <td>Kenya</td>\n",
       "      <td>KEN</td>\n",
       "      <td>3-GHG</td>\n",
       "      <td>Fossil</td>\n",
       "      <td>0.000232</td>\n",
       "      <td>Pg~CO[2]*-e[100]</td>\n",
       "    </tr>\n",
       "    <tr>\n",
       "      <th>1852</th>\n",
       "      <td>Kenya</td>\n",
       "      <td>KEN</td>\n",
       "      <td>3-GHG</td>\n",
       "      <td>Fossil</td>\n",
       "      <td>0.000467</td>\n",
       "      <td>Pg~CO[2]*-e[100]</td>\n",
       "    </tr>\n",
       "    <tr>\n",
       "      <th>1853</th>\n",
       "      <td>Kenya</td>\n",
       "      <td>KEN</td>\n",
       "      <td>3-GHG</td>\n",
       "      <td>Fossil</td>\n",
       "      <td>0.000707</td>\n",
       "      <td>Pg~CO[2]*-e[100]</td>\n",
       "    </tr>\n",
       "    <tr>\n",
       "      <th>1854</th>\n",
       "      <td>Kenya</td>\n",
       "      <td>KEN</td>\n",
       "      <td>3-GHG</td>\n",
       "      <td>Fossil</td>\n",
       "      <td>0.000951</td>\n",
       "      <td>Pg~CO[2]*-e[100]</td>\n",
       "    </tr>\n",
       "    <tr>\n",
       "      <th>1855</th>\n",
       "      <td>Kenya</td>\n",
       "      <td>KEN</td>\n",
       "      <td>3-GHG</td>\n",
       "      <td>Fossil</td>\n",
       "      <td>0.001199</td>\n",
       "      <td>Pg~CO[2]*-e[100]</td>\n",
       "    </tr>\n",
       "    <tr>\n",
       "      <th>...</th>\n",
       "      <td>...</td>\n",
       "      <td>...</td>\n",
       "      <td>...</td>\n",
       "      <td>...</td>\n",
       "      <td>...</td>\n",
       "      <td>...</td>\n",
       "    </tr>\n",
       "    <tr>\n",
       "      <th>2017</th>\n",
       "      <td>Kenya</td>\n",
       "      <td>KEN</td>\n",
       "      <td>N[2]*O</td>\n",
       "      <td>Total</td>\n",
       "      <td>0.686932</td>\n",
       "      <td>Pg~CO[2]*-e[100]</td>\n",
       "    </tr>\n",
       "    <tr>\n",
       "      <th>2018</th>\n",
       "      <td>Kenya</td>\n",
       "      <td>KEN</td>\n",
       "      <td>N[2]*O</td>\n",
       "      <td>Total</td>\n",
       "      <td>0.703466</td>\n",
       "      <td>Pg~CO[2]*-e[100]</td>\n",
       "    </tr>\n",
       "    <tr>\n",
       "      <th>2019</th>\n",
       "      <td>Kenya</td>\n",
       "      <td>KEN</td>\n",
       "      <td>N[2]*O</td>\n",
       "      <td>Total</td>\n",
       "      <td>0.722371</td>\n",
       "      <td>Pg~CO[2]*-e[100]</td>\n",
       "    </tr>\n",
       "    <tr>\n",
       "      <th>2020</th>\n",
       "      <td>Kenya</td>\n",
       "      <td>KEN</td>\n",
       "      <td>N[2]*O</td>\n",
       "      <td>Total</td>\n",
       "      <td>0.740898</td>\n",
       "      <td>Pg~CO[2]*-e[100]</td>\n",
       "    </tr>\n",
       "    <tr>\n",
       "      <th>2021</th>\n",
       "      <td>Kenya</td>\n",
       "      <td>KEN</td>\n",
       "      <td>N[2]*O</td>\n",
       "      <td>Total</td>\n",
       "      <td>0.759822</td>\n",
       "      <td>Pg~CO[2]*-e[100]</td>\n",
       "    </tr>\n",
       "  </tbody>\n",
       "</table>\n",
       "<p>2052 rows × 6 columns</p>\n",
       "</div>"
      ],
      "text/plain": [
       "     CNTR_NAME ISO3     Gas Component      Data              Unit\n",
       "Year                                                             \n",
       "1851     Kenya  KEN   3-GHG    Fossil  0.000232  Pg~CO[2]*-e[100]\n",
       "1852     Kenya  KEN   3-GHG    Fossil  0.000467  Pg~CO[2]*-e[100]\n",
       "1853     Kenya  KEN   3-GHG    Fossil  0.000707  Pg~CO[2]*-e[100]\n",
       "1854     Kenya  KEN   3-GHG    Fossil  0.000951  Pg~CO[2]*-e[100]\n",
       "1855     Kenya  KEN   3-GHG    Fossil  0.001199  Pg~CO[2]*-e[100]\n",
       "...        ...  ...     ...       ...       ...               ...\n",
       "2017     Kenya  KEN  N[2]*O     Total  0.686932  Pg~CO[2]*-e[100]\n",
       "2018     Kenya  KEN  N[2]*O     Total  0.703466  Pg~CO[2]*-e[100]\n",
       "2019     Kenya  KEN  N[2]*O     Total  0.722371  Pg~CO[2]*-e[100]\n",
       "2020     Kenya  KEN  N[2]*O     Total  0.740898  Pg~CO[2]*-e[100]\n",
       "2021     Kenya  KEN  N[2]*O     Total  0.759822  Pg~CO[2]*-e[100]\n",
       "\n",
       "[2052 rows x 6 columns]"
      ]
     },
     "execution_count": 205,
     "metadata": {},
     "output_type": "execute_result"
    }
   ],
   "source": [
    "cumulative_emissions = cumulative_emissions[cumulative_emissions['CNTR_NAME'] == 'Kenya']\n",
    "cumulative_emissions"
   ]
  },
  {
   "cell_type": "code",
   "execution_count": 206,
   "metadata": {},
   "outputs": [
    {
     "data": {
      "image/png": "[encoded data removed]",
      "text/plain": [
       "<Figure size 640x480 with 1 Axes>"
      ]
     },
     "metadata": {},
     "output_type": "display_data"
    }
   ],
   "source": [
    "# Visual Inspection\n",
    "# Plot the time series graph \n",
    "plt.plot(cumulative_emissions.index, cumulative_emissions['Data'])\n",
    "plt.title('Time Series Data')\n",
    "plt.xlabel('Year')\n",
    "plt.ylabel('Data')\n",
    "plt.grid(True)\n",
    "plt.show()"
   ]
  },
  {
   "cell_type": "code",
   "execution_count": 207,
   "metadata": {},
   "outputs": [],
   "source": [
    "# ADF Test\n",
    "# Perform ADF test\n",
    "adf_result = adfuller(cumulative_emissions['Data'])"
   ]
  },
  {
   "cell_type": "code",
   "execution_count": 208,
   "metadata": {},
   "outputs": [
    {
     "name": "stdout",
     "output_type": "stream",
     "text": [
      "ADF Statistic: -5.7395360926409245\n",
      "p-value: 6.322569303823096e-07\n",
      "Reject the null hypothesis (H0): The data is stationary.\n"
     ]
    }
   ],
   "source": [
    "\n",
    "# Extract ADF test statistics and p-value\n",
    "adf_statistic = adf_result[0]\n",
    "p_value = adf_result[1]\n",
    "\n",
    "# Print ADF test statistics and p-value\n",
    "print('ADF Statistic:', adf_statistic)\n",
    "print('p-value:', p_value)\n",
    "\n",
    "# Interpret the results\n",
    "if p_value < 0.05:\n",
    "    print('Reject the null hypothesis (H0): The data is stationary.')\n",
    "else:\n",
    "    print('Fail to reject the null hypothesis (H0): The data is non-stationary.')"
   ]
  },
  {
   "cell_type": "code",
   "execution_count": 209,
   "metadata": {},
   "outputs": [
    {
     "ename": "TypeError",
     "evalue": "float() argument must be a string or a real number, not 'Figure'",
     "output_type": "error",
     "traceback": [
      "\u001b[1;31m---------------------------------------------------------------------------\u001b[0m",
      "\u001b[1;31mTypeError\u001b[0m                                 Traceback (most recent call last)",
      "Cell \u001b[1;32mIn[209], line 5\u001b[0m\n\u001b[0;32m      3\u001b[0m pacf_plot \u001b[38;5;241m=\u001b[39m plot_pacf(cumulative_emissions[\u001b[38;5;124m'\u001b[39m\u001b[38;5;124mData\u001b[39m\u001b[38;5;124m'\u001b[39m])\n\u001b[0;32m      4\u001b[0m plt\u001b[38;5;241m.\u001b[39msubplot(\u001b[38;5;241m211\u001b[39m)\n\u001b[1;32m----> 5\u001b[0m \u001b[43mplt\u001b[49m\u001b[38;5;241;43m.\u001b[39;49m\u001b[43mplot\u001b[49m\u001b[43m(\u001b[49m\u001b[43macf_plot\u001b[49m\u001b[43m)\u001b[49m\n\u001b[0;32m      6\u001b[0m plt\u001b[38;5;241m.\u001b[39maxhline(y\u001b[38;5;241m=\u001b[39m\u001b[38;5;241m0\u001b[39m, linestyle\u001b[38;5;241m=\u001b[39m\u001b[38;5;124m\"\u001b[39m\u001b[38;5;124m--\u001b[39m\u001b[38;5;124m\"\u001b[39m, color\u001b[38;5;241m=\u001b[39m\u001b[38;5;124m\"\u001b[39m\u001b[38;5;124mgray\u001b[39m\u001b[38;5;124m\"\u001b[39m)\n\u001b[0;32m      7\u001b[0m plt\u001b[38;5;241m.\u001b[39mtitle(\u001b[38;5;124m\"\u001b[39m\u001b[38;5;124mAutocorrelation Function (ACF)\u001b[39m\u001b[38;5;124m\"\u001b[39m)\n",
      "File \u001b[1;32mc:\\Users\\josep\\AppData\\Local\\Programs\\Python\\Python312\\Lib\\site-packages\\matplotlib\\pyplot.py:3575\u001b[0m, in \u001b[0;36mplot\u001b[1;34m(scalex, scaley, data, *args, **kwargs)\u001b[0m\n\u001b[0;32m   3567\u001b[0m \u001b[38;5;129m@_copy_docstring_and_deprecators\u001b[39m(Axes\u001b[38;5;241m.\u001b[39mplot)\n\u001b[0;32m   3568\u001b[0m \u001b[38;5;28;01mdef\u001b[39;00m \u001b[38;5;21mplot\u001b[39m(\n\u001b[0;32m   3569\u001b[0m     \u001b[38;5;241m*\u001b[39margs: \u001b[38;5;28mfloat\u001b[39m \u001b[38;5;241m|\u001b[39m ArrayLike \u001b[38;5;241m|\u001b[39m \u001b[38;5;28mstr\u001b[39m,\n\u001b[1;32m   (...)\u001b[0m\n\u001b[0;32m   3573\u001b[0m     \u001b[38;5;241m*\u001b[39m\u001b[38;5;241m*\u001b[39mkwargs,\n\u001b[0;32m   3574\u001b[0m ) \u001b[38;5;241m-\u001b[39m\u001b[38;5;241m>\u001b[39m \u001b[38;5;28mlist\u001b[39m[Line2D]:\n\u001b[1;32m-> 3575\u001b[0m     \u001b[38;5;28;01mreturn\u001b[39;00m \u001b[43mgca\u001b[49m\u001b[43m(\u001b[49m\u001b[43m)\u001b[49m\u001b[38;5;241;43m.\u001b[39;49m\u001b[43mplot\u001b[49m\u001b[43m(\u001b[49m\n\u001b[0;32m   3576\u001b[0m \u001b[43m        \u001b[49m\u001b[38;5;241;43m*\u001b[39;49m\u001b[43margs\u001b[49m\u001b[43m,\u001b[49m\n\u001b[0;32m   3577\u001b[0m \u001b[43m        \u001b[49m\u001b[43mscalex\u001b[49m\u001b[38;5;241;43m=\u001b[39;49m\u001b[43mscalex\u001b[49m\u001b[43m,\u001b[49m\n\u001b[0;32m   3578\u001b[0m \u001b[43m        \u001b[49m\u001b[43mscaley\u001b[49m\u001b[38;5;241;43m=\u001b[39;49m\u001b[43mscaley\u001b[49m\u001b[43m,\u001b[49m\n\u001b[0;32m   3579\u001b[0m \u001b[43m        \u001b[49m\u001b[38;5;241;43m*\u001b[39;49m\u001b[38;5;241;43m*\u001b[39;49m\u001b[43m(\u001b[49m\u001b[43m{\u001b[49m\u001b[38;5;124;43m\"\u001b[39;49m\u001b[38;5;124;43mdata\u001b[39;49m\u001b[38;5;124;43m\"\u001b[39;49m\u001b[43m:\u001b[49m\u001b[43m \u001b[49m\u001b[43mdata\u001b[49m\u001b[43m}\u001b[49m\u001b[43m \u001b[49m\u001b[38;5;28;43;01mif\u001b[39;49;00m\u001b[43m \u001b[49m\u001b[43mdata\u001b[49m\u001b[43m \u001b[49m\u001b[38;5;129;43;01mis\u001b[39;49;00m\u001b[43m \u001b[49m\u001b[38;5;129;43;01mnot\u001b[39;49;00m\u001b[43m \u001b[49m\u001b[38;5;28;43;01mNone\u001b[39;49;00m\u001b[43m \u001b[49m\u001b[38;5;28;43;01melse\u001b[39;49;00m\u001b[43m \u001b[49m\u001b[43m{\u001b[49m\u001b[43m}\u001b[49m\u001b[43m)\u001b[49m\u001b[43m,\u001b[49m\n\u001b[0;32m   3580\u001b[0m \u001b[43m        \u001b[49m\u001b[38;5;241;43m*\u001b[39;49m\u001b[38;5;241;43m*\u001b[39;49m\u001b[43mkwargs\u001b[49m\u001b[43m,\u001b[49m\n\u001b[0;32m   3581\u001b[0m \u001b[43m    \u001b[49m\u001b[43m)\u001b[49m\n",
      "File \u001b[1;32mc:\\Users\\josep\\AppData\\Local\\Programs\\Python\\Python312\\Lib\\site-packages\\matplotlib\\axes\\_axes.py:1723\u001b[0m, in \u001b[0;36mAxes.plot\u001b[1;34m(self, scalex, scaley, data, *args, **kwargs)\u001b[0m\n\u001b[0;32m   1721\u001b[0m lines \u001b[38;5;241m=\u001b[39m [\u001b[38;5;241m*\u001b[39m\u001b[38;5;28mself\u001b[39m\u001b[38;5;241m.\u001b[39m_get_lines(\u001b[38;5;28mself\u001b[39m, \u001b[38;5;241m*\u001b[39margs, data\u001b[38;5;241m=\u001b[39mdata, \u001b[38;5;241m*\u001b[39m\u001b[38;5;241m*\u001b[39mkwargs)]\n\u001b[0;32m   1722\u001b[0m \u001b[38;5;28;01mfor\u001b[39;00m line \u001b[38;5;129;01min\u001b[39;00m lines:\n\u001b[1;32m-> 1723\u001b[0m     \u001b[38;5;28;43mself\u001b[39;49m\u001b[38;5;241;43m.\u001b[39;49m\u001b[43madd_line\u001b[49m\u001b[43m(\u001b[49m\u001b[43mline\u001b[49m\u001b[43m)\u001b[49m\n\u001b[0;32m   1724\u001b[0m \u001b[38;5;28;01mif\u001b[39;00m scalex:\n\u001b[0;32m   1725\u001b[0m     \u001b[38;5;28mself\u001b[39m\u001b[38;5;241m.\u001b[39m_request_autoscale_view(\u001b[38;5;124m\"\u001b[39m\u001b[38;5;124mx\u001b[39m\u001b[38;5;124m\"\u001b[39m)\n",
      "File \u001b[1;32mc:\\Users\\josep\\AppData\\Local\\Programs\\Python\\Python312\\Lib\\site-packages\\matplotlib\\axes\\_base.py:2309\u001b[0m, in \u001b[0;36m_AxesBase.add_line\u001b[1;34m(self, line)\u001b[0m\n\u001b[0;32m   2306\u001b[0m \u001b[38;5;28;01mif\u001b[39;00m line\u001b[38;5;241m.\u001b[39mget_clip_path() \u001b[38;5;129;01mis\u001b[39;00m \u001b[38;5;28;01mNone\u001b[39;00m:\n\u001b[0;32m   2307\u001b[0m     line\u001b[38;5;241m.\u001b[39mset_clip_path(\u001b[38;5;28mself\u001b[39m\u001b[38;5;241m.\u001b[39mpatch)\n\u001b[1;32m-> 2309\u001b[0m \u001b[38;5;28;43mself\u001b[39;49m\u001b[38;5;241;43m.\u001b[39;49m\u001b[43m_update_line_limits\u001b[49m\u001b[43m(\u001b[49m\u001b[43mline\u001b[49m\u001b[43m)\u001b[49m\n\u001b[0;32m   2310\u001b[0m \u001b[38;5;28;01mif\u001b[39;00m \u001b[38;5;129;01mnot\u001b[39;00m line\u001b[38;5;241m.\u001b[39mget_label():\n\u001b[0;32m   2311\u001b[0m     line\u001b[38;5;241m.\u001b[39mset_label(\u001b[38;5;124mf\u001b[39m\u001b[38;5;124m'\u001b[39m\u001b[38;5;124m_child\u001b[39m\u001b[38;5;132;01m{\u001b[39;00m\u001b[38;5;28mlen\u001b[39m(\u001b[38;5;28mself\u001b[39m\u001b[38;5;241m.\u001b[39m_children)\u001b[38;5;132;01m}\u001b[39;00m\u001b[38;5;124m'\u001b[39m)\n",
      "File \u001b[1;32mc:\\Users\\josep\\AppData\\Local\\Programs\\Python\\Python312\\Lib\\site-packages\\matplotlib\\axes\\_base.py:2332\u001b[0m, in \u001b[0;36m_AxesBase._update_line_limits\u001b[1;34m(self, line)\u001b[0m\n\u001b[0;32m   2328\u001b[0m \u001b[38;5;28;01mdef\u001b[39;00m \u001b[38;5;21m_update_line_limits\u001b[39m(\u001b[38;5;28mself\u001b[39m, line):\n\u001b[0;32m   2329\u001b[0m \u001b[38;5;250m    \u001b[39m\u001b[38;5;124;03m\"\"\"\u001b[39;00m\n\u001b[0;32m   2330\u001b[0m \u001b[38;5;124;03m    Figures out the data limit of the given line, updating self.dataLim.\u001b[39;00m\n\u001b[0;32m   2331\u001b[0m \u001b[38;5;124;03m    \"\"\"\u001b[39;00m\n\u001b[1;32m-> 2332\u001b[0m     path \u001b[38;5;241m=\u001b[39m \u001b[43mline\u001b[49m\u001b[38;5;241;43m.\u001b[39;49m\u001b[43mget_path\u001b[49m\u001b[43m(\u001b[49m\u001b[43m)\u001b[49m\n\u001b[0;32m   2333\u001b[0m     \u001b[38;5;28;01mif\u001b[39;00m path\u001b[38;5;241m.\u001b[39mvertices\u001b[38;5;241m.\u001b[39msize \u001b[38;5;241m==\u001b[39m \u001b[38;5;241m0\u001b[39m:\n\u001b[0;32m   2334\u001b[0m         \u001b[38;5;28;01mreturn\u001b[39;00m\n",
      "File \u001b[1;32mc:\\Users\\josep\\AppData\\Local\\Programs\\Python\\Python312\\Lib\\site-packages\\matplotlib\\lines.py:1032\u001b[0m, in \u001b[0;36mLine2D.get_path\u001b[1;34m(self)\u001b[0m\n\u001b[0;32m   1030\u001b[0m \u001b[38;5;250m\u001b[39m\u001b[38;5;124;03m\"\"\"Return the `~matplotlib.path.Path` associated with this line.\"\"\"\u001b[39;00m\n\u001b[0;32m   1031\u001b[0m \u001b[38;5;28;01mif\u001b[39;00m \u001b[38;5;28mself\u001b[39m\u001b[38;5;241m.\u001b[39m_invalidy \u001b[38;5;129;01mor\u001b[39;00m \u001b[38;5;28mself\u001b[39m\u001b[38;5;241m.\u001b[39m_invalidx:\n\u001b[1;32m-> 1032\u001b[0m     \u001b[38;5;28;43mself\u001b[39;49m\u001b[38;5;241;43m.\u001b[39;49m\u001b[43mrecache\u001b[49m\u001b[43m(\u001b[49m\u001b[43m)\u001b[49m\n\u001b[0;32m   1033\u001b[0m \u001b[38;5;28;01mreturn\u001b[39;00m \u001b[38;5;28mself\u001b[39m\u001b[38;5;241m.\u001b[39m_path\n",
      "File \u001b[1;32mc:\\Users\\josep\\AppData\\Local\\Programs\\Python\\Python312\\Lib\\site-packages\\matplotlib\\lines.py:674\u001b[0m, in \u001b[0;36mLine2D.recache\u001b[1;34m(self, always)\u001b[0m\n\u001b[0;32m    672\u001b[0m \u001b[38;5;28;01mif\u001b[39;00m always \u001b[38;5;129;01mor\u001b[39;00m \u001b[38;5;28mself\u001b[39m\u001b[38;5;241m.\u001b[39m_invalidy:\n\u001b[0;32m    673\u001b[0m     yconv \u001b[38;5;241m=\u001b[39m \u001b[38;5;28mself\u001b[39m\u001b[38;5;241m.\u001b[39mconvert_yunits(\u001b[38;5;28mself\u001b[39m\u001b[38;5;241m.\u001b[39m_yorig)\n\u001b[1;32m--> 674\u001b[0m     y \u001b[38;5;241m=\u001b[39m \u001b[43m_to_unmasked_float_array\u001b[49m\u001b[43m(\u001b[49m\u001b[43myconv\u001b[49m\u001b[43m)\u001b[49m\u001b[38;5;241m.\u001b[39mravel()\n\u001b[0;32m    675\u001b[0m \u001b[38;5;28;01melse\u001b[39;00m:\n\u001b[0;32m    676\u001b[0m     y \u001b[38;5;241m=\u001b[39m \u001b[38;5;28mself\u001b[39m\u001b[38;5;241m.\u001b[39m_y\n",
      "File \u001b[1;32mc:\\Users\\josep\\AppData\\Local\\Programs\\Python\\Python312\\Lib\\site-packages\\matplotlib\\cbook.py:1345\u001b[0m, in \u001b[0;36m_to_unmasked_float_array\u001b[1;34m(x)\u001b[0m\n\u001b[0;32m   1343\u001b[0m     \u001b[38;5;28;01mreturn\u001b[39;00m np\u001b[38;5;241m.\u001b[39mma\u001b[38;5;241m.\u001b[39masarray(x, \u001b[38;5;28mfloat\u001b[39m)\u001b[38;5;241m.\u001b[39mfilled(np\u001b[38;5;241m.\u001b[39mnan)\n\u001b[0;32m   1344\u001b[0m \u001b[38;5;28;01melse\u001b[39;00m:\n\u001b[1;32m-> 1345\u001b[0m     \u001b[38;5;28;01mreturn\u001b[39;00m \u001b[43mnp\u001b[49m\u001b[38;5;241;43m.\u001b[39;49m\u001b[43masarray\u001b[49m\u001b[43m(\u001b[49m\u001b[43mx\u001b[49m\u001b[43m,\u001b[49m\u001b[43m \u001b[49m\u001b[38;5;28;43mfloat\u001b[39;49m\u001b[43m)\u001b[49m\n",
      "\u001b[1;31mTypeError\u001b[0m: float() argument must be a string or a real number, not 'Figure'"
     ]
    },
    {
     "data": {
      "image/png": "[encoded data removed]",
      "text/plain": [
       "<Figure size 640x480 with 1 Axes>"
      ]
     },
     "metadata": {},
     "output_type": "display_data"
    },
    {
     "data": {
      "image/png": "[encoded data removed]",
      "text/plain": [
       "<Figure size 640x480 with 2 Axes>"
      ]
     },
     "metadata": {},
     "output_type": "display_data"
    }
   ],
   "source": [
    "# Plot ACF and PACF\n",
    "acf_plot = plot_acf(cumulative_emissions['Data'])\n",
    "pacf_plot = plot_pacf(cumulative_emissions['Data'])\n",
    "plt.subplot(211)\n",
    "plt.plot(acf_plot)\n",
    "plt.axhline(y=0, linestyle=\"--\", color=\"gray\")\n",
    "plt.title(\"Autocorrelation Function (ACF)\")\n",
    "plt.subplot(212)\n",
    "plt.plot(pacf_plot)\n",
    "plt.axhline(y=0, linestyle=\"--\", color=\"gray\")\n",
    "plt.title(\"Partial Autocorrelation Function (PACF)\")\n",
    "plt.tight_layout()\n",
    "plt.show()"
   ]
  },
  {
   "cell_type": "markdown",
   "metadata": {},
   "source": [
    "### Fitting the Model"
   ]
  },
  {
   "cell_type": "code",
   "execution_count": 210,
   "metadata": {},
   "outputs": [],
   "source": [
    "best_aic = float(\"inf\")\n",
    "best_model = None\n",
    "for p in range(1, 5):\n",
    "    for q in range(1, 5):\n",
    "        model = ARIMA(cumulative_emissions['Data'], order=(p, 0, q))  # Adjust d based on stationarity test\n",
    "        try:\n",
    "            model_fit = model.fit()\n",
    "            aic = model_fit.aic\n",
    "            if aic < best_aic:\n",
    "                best_aic = aic\n",
    "                best_model = model_fit\n",
    "        except:\n",
    "            pass  # Handle potential fitting errors"
   ]
  },
  {
   "cell_type": "code",
   "execution_count": 212,
   "metadata": {},
   "outputs": [
    {
     "name": "stdout",
     "output_type": "stream",
     "text": [
      "                               SARIMAX Results                                \n",
      "==============================================================================\n",
      "Dep. Variable:                   Data   No. Observations:                 2052\n",
      "Model:                 ARIMA(1, 0, 1)   Log Likelihood                -144.650\n",
      "Date:                Wed, 31 Jan 2024   AIC                            297.301\n",
      "Time:                        16:36:43   BIC                            319.807\n",
      "Sample:                             0   HQIC                           305.554\n",
      "                               - 2052                                         \n",
      "Covariance Type:                  opg                                         \n",
      "==============================================================================\n",
      "                 coef    std err          z      P>|z|      [0.025      0.975]\n",
      "------------------------------------------------------------------------------\n",
      "const          0.5436      0.455      1.194      0.233      -0.349       1.436\n",
      "ar.L1          0.9679      0.013     74.543      0.000       0.942       0.993\n",
      "ma.L1          0.0057      0.207      0.028      0.978      -0.400       0.412\n",
      "sigma2         0.0673      0.001     86.282      0.000       0.066       0.069\n",
      "===================================================================================\n",
      "Ljung-Box (L1) (Q):                   0.00   Jarque-Bera (JB):          20669776.29\n",
      "Prob(Q):                              0.99   Prob(JB):                         0.00\n",
      "Heteroskedasticity (H):               0.13   Skew:                           -20.18\n",
      "Prob(H) (two-sided):                  0.00   Kurtosis:                       493.02\n",
      "===================================================================================\n",
      "\n",
      "Warnings:\n",
      "[1] Covariance matrix calculated using the outer product of gradients (complex-step).\n"
     ]
    },
    {
     "data": {
      "image/png": "[encoded data removed]",
      "text/plain": [
       "<Figure size 640x480 with 1 Axes>"
      ]
     },
     "metadata": {},
     "output_type": "display_data"
    }
   ],
   "source": [
    "# Print model summary\n",
    "print(best_model.summary())\n",
    "\n",
    "# Plot actual vs. predicted values\n",
    "plot_predict(best_model,dynamic=False)\n",
    "plt.title(\"Actual vs. Predicted Values\")\n",
    "plt.show()"
   ]
  },
  {
   "cell_type": "code",
   "execution_count": 163,
   "metadata": {},
   "outputs": [
    {
     "name": "stdout",
     "output_type": "stream",
     "text": [
      "2052    0.753246\n",
      "dtype: float64\n"
     ]
    }
   ],
   "source": [
    "# Prediction\n",
    "forecast = model_fit.forecast(steps=1)  # predict one step ahead\n",
    "print(forecast)"
   ]
  },
  {
   "cell_type": "markdown",
   "metadata": {},
   "source": [
    "# Extraction"
   ]
  }
 ],
 "metadata": {
  "kernelspec": {
   "display_name": "Python 3",
   "language": "python",
   "name": "python3"
  },
  "language_info": {
   "codemirror_mode": {
    "name": "ipython",
    "version": 3
   },
   "file_extension": ".py",
   "mimetype": "text/x-python",
   "name": "python",
   "nbconvert_exporter": "python",
   "pygments_lexer": "ipython3",
   "version": "3.12.1"
  }
 },
 "nbformat": 4,
 "nbformat_minor": 2
}
